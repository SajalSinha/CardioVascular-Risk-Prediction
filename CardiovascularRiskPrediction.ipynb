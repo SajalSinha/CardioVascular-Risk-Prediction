{
  "nbformat": 4,
  "nbformat_minor": 0,
  "metadata": {
    "colab": {
      "name": "CardiovascularRiskPrediction.ipynb",
      "provenance": [],
      "authorship_tag": "ABX9TyMruOz+2ZwC9kLgeD4BffIT",
      "include_colab_link": true
    },
    "kernelspec": {
      "display_name": "Python 3",
      "name": "python3"
    },
    "language_info": {
      "name": "python"
    }
  },
  "cells": [
    {
      "cell_type": "markdown",
      "metadata": {
        "id": "view-in-github",
        "colab_type": "text"
      },
      "source": [
        "<a href=\"https://colab.research.google.com/github/SajalSinha/CardioVascular-Risk-Prediction/blob/main/CardiovascularRiskPrediction.ipynb\" target=\"_parent\"><img src=\"https://colab.research.google.com/assets/colab-badge.svg\" alt=\"Open In Colab\"/></a>"
      ]
    },
    {
      "cell_type": "markdown",
      "metadata": {
        "id": "aBtzZqnFwXbe"
      },
      "source": [
        "#Importing Libraries"
      ]
    },
    {
      "cell_type": "code",
      "metadata": {
        "id": "WVJxX8jCvlDQ"
      },
      "source": [
        "import numpy as np\n",
        "import pandas as pd\n",
        "import matplotlib.pyplot as plt\n",
        "from matplotlib import rcParams\n",
        "from matplotlib.cm import rainbow\n",
        "import seaborn as sns\n",
        "%matplotlib inline\n",
        "import warnings\n",
        "import pickle\n",
        "warnings.filterwarnings('ignore')\n",
        "from sklearn.preprocessing import StandardScaler\n",
        "from sklearn.model_selection import train_test_split\n",
        "from sklearn import metrics\n",
        "from sklearn.linear_model import LogisticRegression\n",
        "from sklearn.neighbors import KNeighborsClassifier\n",
        "from sklearn.svm import SVC\n",
        "from sklearn.naive_bayes import GaussianNB\n",
        "from sklearn.tree import DecisionTreeClassifier\n",
        "from sklearn.ensemble import RandomForestClassifier\n",
        "from  sklearn.model_selection import cross_val_score\n",
        "from sklearn.metrics import classification_report\n"
      ],
      "execution_count": 1,
      "outputs": []
    },
    {
      "cell_type": "code",
      "metadata": {
        "id": "H4eom7vDvx0w"
      },
      "source": [
        "df = pd.read_csv(\"https://raw.githubusercontent.com/SajalSinha/CardioVascular-Risk-Prediction/main/data_cardiovascular_risk.csv\")"
      ],
      "execution_count": 2,
      "outputs": []
    },
    {
      "cell_type": "code",
      "metadata": {
        "colab": {
          "base_uri": "https://localhost:8080/",
          "height": 204
        },
        "id": "3adWrL24wORy",
        "outputId": "dd0cb8ff-9da0-47a2-f510-87273d7bb5ce"
      },
      "source": [
        "df.head()"
      ],
      "execution_count": 3,
      "outputs": [
        {
          "output_type": "execute_result",
          "data": {
            "text/html": [
              "<div>\n",
              "<style scoped>\n",
              "    .dataframe tbody tr th:only-of-type {\n",
              "        vertical-align: middle;\n",
              "    }\n",
              "\n",
              "    .dataframe tbody tr th {\n",
              "        vertical-align: top;\n",
              "    }\n",
              "\n",
              "    .dataframe thead th {\n",
              "        text-align: right;\n",
              "    }\n",
              "</style>\n",
              "<table border=\"1\" class=\"dataframe\">\n",
              "  <thead>\n",
              "    <tr style=\"text-align: right;\">\n",
              "      <th></th>\n",
              "      <th>id</th>\n",
              "      <th>age</th>\n",
              "      <th>education</th>\n",
              "      <th>sex</th>\n",
              "      <th>is_smoking</th>\n",
              "      <th>cigsPerDay</th>\n",
              "      <th>BPMeds</th>\n",
              "      <th>prevalentStroke</th>\n",
              "      <th>prevalentHyp</th>\n",
              "      <th>diabetes</th>\n",
              "      <th>totChol</th>\n",
              "      <th>sysBP</th>\n",
              "      <th>diaBP</th>\n",
              "      <th>BMI</th>\n",
              "      <th>heartRate</th>\n",
              "      <th>glucose</th>\n",
              "      <th>TenYearCHD</th>\n",
              "    </tr>\n",
              "  </thead>\n",
              "  <tbody>\n",
              "    <tr>\n",
              "      <th>0</th>\n",
              "      <td>0</td>\n",
              "      <td>64</td>\n",
              "      <td>2.0</td>\n",
              "      <td>F</td>\n",
              "      <td>YES</td>\n",
              "      <td>3.0</td>\n",
              "      <td>0.0</td>\n",
              "      <td>0</td>\n",
              "      <td>0</td>\n",
              "      <td>0</td>\n",
              "      <td>221.0</td>\n",
              "      <td>148.0</td>\n",
              "      <td>85.0</td>\n",
              "      <td>NaN</td>\n",
              "      <td>90.0</td>\n",
              "      <td>80.0</td>\n",
              "      <td>1</td>\n",
              "    </tr>\n",
              "    <tr>\n",
              "      <th>1</th>\n",
              "      <td>1</td>\n",
              "      <td>36</td>\n",
              "      <td>4.0</td>\n",
              "      <td>M</td>\n",
              "      <td>NO</td>\n",
              "      <td>0.0</td>\n",
              "      <td>0.0</td>\n",
              "      <td>0</td>\n",
              "      <td>1</td>\n",
              "      <td>0</td>\n",
              "      <td>212.0</td>\n",
              "      <td>168.0</td>\n",
              "      <td>98.0</td>\n",
              "      <td>29.77</td>\n",
              "      <td>72.0</td>\n",
              "      <td>75.0</td>\n",
              "      <td>0</td>\n",
              "    </tr>\n",
              "    <tr>\n",
              "      <th>2</th>\n",
              "      <td>2</td>\n",
              "      <td>46</td>\n",
              "      <td>1.0</td>\n",
              "      <td>F</td>\n",
              "      <td>YES</td>\n",
              "      <td>10.0</td>\n",
              "      <td>0.0</td>\n",
              "      <td>0</td>\n",
              "      <td>0</td>\n",
              "      <td>0</td>\n",
              "      <td>250.0</td>\n",
              "      <td>116.0</td>\n",
              "      <td>71.0</td>\n",
              "      <td>20.35</td>\n",
              "      <td>88.0</td>\n",
              "      <td>94.0</td>\n",
              "      <td>0</td>\n",
              "    </tr>\n",
              "    <tr>\n",
              "      <th>3</th>\n",
              "      <td>3</td>\n",
              "      <td>50</td>\n",
              "      <td>1.0</td>\n",
              "      <td>M</td>\n",
              "      <td>YES</td>\n",
              "      <td>20.0</td>\n",
              "      <td>0.0</td>\n",
              "      <td>0</td>\n",
              "      <td>1</td>\n",
              "      <td>0</td>\n",
              "      <td>233.0</td>\n",
              "      <td>158.0</td>\n",
              "      <td>88.0</td>\n",
              "      <td>28.26</td>\n",
              "      <td>68.0</td>\n",
              "      <td>94.0</td>\n",
              "      <td>1</td>\n",
              "    </tr>\n",
              "    <tr>\n",
              "      <th>4</th>\n",
              "      <td>4</td>\n",
              "      <td>64</td>\n",
              "      <td>1.0</td>\n",
              "      <td>F</td>\n",
              "      <td>YES</td>\n",
              "      <td>30.0</td>\n",
              "      <td>0.0</td>\n",
              "      <td>0</td>\n",
              "      <td>0</td>\n",
              "      <td>0</td>\n",
              "      <td>241.0</td>\n",
              "      <td>136.5</td>\n",
              "      <td>85.0</td>\n",
              "      <td>26.42</td>\n",
              "      <td>70.0</td>\n",
              "      <td>77.0</td>\n",
              "      <td>0</td>\n",
              "    </tr>\n",
              "  </tbody>\n",
              "</table>\n",
              "</div>"
            ],
            "text/plain": [
              "   id  age  education sex  ...    BMI  heartRate  glucose  TenYearCHD\n",
              "0   0   64        2.0   F  ...    NaN       90.0     80.0           1\n",
              "1   1   36        4.0   M  ...  29.77       72.0     75.0           0\n",
              "2   2   46        1.0   F  ...  20.35       88.0     94.0           0\n",
              "3   3   50        1.0   M  ...  28.26       68.0     94.0           1\n",
              "4   4   64        1.0   F  ...  26.42       70.0     77.0           0\n",
              "\n",
              "[5 rows x 17 columns]"
            ]
          },
          "metadata": {},
          "execution_count": 3
        }
      ]
    },
    {
      "cell_type": "code",
      "metadata": {
        "colab": {
          "base_uri": "https://localhost:8080/"
        },
        "id": "IxNBiTPowfII",
        "outputId": "e016a4a0-7551-469b-93bd-54c0281d9efd"
      },
      "source": [
        "df.info()"
      ],
      "execution_count": 4,
      "outputs": [
        {
          "output_type": "stream",
          "name": "stdout",
          "text": [
            "<class 'pandas.core.frame.DataFrame'>\n",
            "RangeIndex: 3390 entries, 0 to 3389\n",
            "Data columns (total 17 columns):\n",
            " #   Column           Non-Null Count  Dtype  \n",
            "---  ------           --------------  -----  \n",
            " 0   id               3390 non-null   int64  \n",
            " 1   age              3390 non-null   int64  \n",
            " 2   education        3303 non-null   float64\n",
            " 3   sex              3390 non-null   object \n",
            " 4   is_smoking       3390 non-null   object \n",
            " 5   cigsPerDay       3368 non-null   float64\n",
            " 6   BPMeds           3346 non-null   float64\n",
            " 7   prevalentStroke  3390 non-null   int64  \n",
            " 8   prevalentHyp     3390 non-null   int64  \n",
            " 9   diabetes         3390 non-null   int64  \n",
            " 10  totChol          3352 non-null   float64\n",
            " 11  sysBP            3390 non-null   float64\n",
            " 12  diaBP            3390 non-null   float64\n",
            " 13  BMI              3376 non-null   float64\n",
            " 14  heartRate        3389 non-null   float64\n",
            " 15  glucose          3086 non-null   float64\n",
            " 16  TenYearCHD       3390 non-null   int64  \n",
            "dtypes: float64(9), int64(6), object(2)\n",
            "memory usage: 450.4+ KB\n"
          ]
        }
      ]
    },
    {
      "cell_type": "code",
      "metadata": {
        "colab": {
          "base_uri": "https://localhost:8080/",
          "height": 410
        },
        "id": "nkVIpcCSwh0c",
        "outputId": "ff2ad822-fc7c-41f8-91b7-2449bdaf2cd0"
      },
      "source": [
        "df.describe(include = 'all')"
      ],
      "execution_count": 5,
      "outputs": [
        {
          "output_type": "execute_result",
          "data": {
            "text/html": [
              "<div>\n",
              "<style scoped>\n",
              "    .dataframe tbody tr th:only-of-type {\n",
              "        vertical-align: middle;\n",
              "    }\n",
              "\n",
              "    .dataframe tbody tr th {\n",
              "        vertical-align: top;\n",
              "    }\n",
              "\n",
              "    .dataframe thead th {\n",
              "        text-align: right;\n",
              "    }\n",
              "</style>\n",
              "<table border=\"1\" class=\"dataframe\">\n",
              "  <thead>\n",
              "    <tr style=\"text-align: right;\">\n",
              "      <th></th>\n",
              "      <th>id</th>\n",
              "      <th>age</th>\n",
              "      <th>education</th>\n",
              "      <th>sex</th>\n",
              "      <th>is_smoking</th>\n",
              "      <th>cigsPerDay</th>\n",
              "      <th>BPMeds</th>\n",
              "      <th>prevalentStroke</th>\n",
              "      <th>prevalentHyp</th>\n",
              "      <th>diabetes</th>\n",
              "      <th>totChol</th>\n",
              "      <th>sysBP</th>\n",
              "      <th>diaBP</th>\n",
              "      <th>BMI</th>\n",
              "      <th>heartRate</th>\n",
              "      <th>glucose</th>\n",
              "      <th>TenYearCHD</th>\n",
              "    </tr>\n",
              "  </thead>\n",
              "  <tbody>\n",
              "    <tr>\n",
              "      <th>count</th>\n",
              "      <td>3390.000000</td>\n",
              "      <td>3390.000000</td>\n",
              "      <td>3303.000000</td>\n",
              "      <td>3390</td>\n",
              "      <td>3390</td>\n",
              "      <td>3368.000000</td>\n",
              "      <td>3346.000000</td>\n",
              "      <td>3390.000000</td>\n",
              "      <td>3390.000000</td>\n",
              "      <td>3390.000000</td>\n",
              "      <td>3352.000000</td>\n",
              "      <td>3390.00000</td>\n",
              "      <td>3390.000000</td>\n",
              "      <td>3376.000000</td>\n",
              "      <td>3389.000000</td>\n",
              "      <td>3086.000000</td>\n",
              "      <td>3390.000000</td>\n",
              "    </tr>\n",
              "    <tr>\n",
              "      <th>unique</th>\n",
              "      <td>NaN</td>\n",
              "      <td>NaN</td>\n",
              "      <td>NaN</td>\n",
              "      <td>2</td>\n",
              "      <td>2</td>\n",
              "      <td>NaN</td>\n",
              "      <td>NaN</td>\n",
              "      <td>NaN</td>\n",
              "      <td>NaN</td>\n",
              "      <td>NaN</td>\n",
              "      <td>NaN</td>\n",
              "      <td>NaN</td>\n",
              "      <td>NaN</td>\n",
              "      <td>NaN</td>\n",
              "      <td>NaN</td>\n",
              "      <td>NaN</td>\n",
              "      <td>NaN</td>\n",
              "    </tr>\n",
              "    <tr>\n",
              "      <th>top</th>\n",
              "      <td>NaN</td>\n",
              "      <td>NaN</td>\n",
              "      <td>NaN</td>\n",
              "      <td>F</td>\n",
              "      <td>NO</td>\n",
              "      <td>NaN</td>\n",
              "      <td>NaN</td>\n",
              "      <td>NaN</td>\n",
              "      <td>NaN</td>\n",
              "      <td>NaN</td>\n",
              "      <td>NaN</td>\n",
              "      <td>NaN</td>\n",
              "      <td>NaN</td>\n",
              "      <td>NaN</td>\n",
              "      <td>NaN</td>\n",
              "      <td>NaN</td>\n",
              "      <td>NaN</td>\n",
              "    </tr>\n",
              "    <tr>\n",
              "      <th>freq</th>\n",
              "      <td>NaN</td>\n",
              "      <td>NaN</td>\n",
              "      <td>NaN</td>\n",
              "      <td>1923</td>\n",
              "      <td>1703</td>\n",
              "      <td>NaN</td>\n",
              "      <td>NaN</td>\n",
              "      <td>NaN</td>\n",
              "      <td>NaN</td>\n",
              "      <td>NaN</td>\n",
              "      <td>NaN</td>\n",
              "      <td>NaN</td>\n",
              "      <td>NaN</td>\n",
              "      <td>NaN</td>\n",
              "      <td>NaN</td>\n",
              "      <td>NaN</td>\n",
              "      <td>NaN</td>\n",
              "    </tr>\n",
              "    <tr>\n",
              "      <th>mean</th>\n",
              "      <td>1694.500000</td>\n",
              "      <td>49.542183</td>\n",
              "      <td>1.970936</td>\n",
              "      <td>NaN</td>\n",
              "      <td>NaN</td>\n",
              "      <td>9.069477</td>\n",
              "      <td>0.029886</td>\n",
              "      <td>0.006490</td>\n",
              "      <td>0.315339</td>\n",
              "      <td>0.025664</td>\n",
              "      <td>237.074284</td>\n",
              "      <td>132.60118</td>\n",
              "      <td>82.883038</td>\n",
              "      <td>25.794964</td>\n",
              "      <td>75.977279</td>\n",
              "      <td>82.086520</td>\n",
              "      <td>0.150737</td>\n",
              "    </tr>\n",
              "    <tr>\n",
              "      <th>std</th>\n",
              "      <td>978.753033</td>\n",
              "      <td>8.592878</td>\n",
              "      <td>1.019081</td>\n",
              "      <td>NaN</td>\n",
              "      <td>NaN</td>\n",
              "      <td>11.879078</td>\n",
              "      <td>0.170299</td>\n",
              "      <td>0.080309</td>\n",
              "      <td>0.464719</td>\n",
              "      <td>0.158153</td>\n",
              "      <td>45.247430</td>\n",
              "      <td>22.29203</td>\n",
              "      <td>12.023581</td>\n",
              "      <td>4.115449</td>\n",
              "      <td>11.971868</td>\n",
              "      <td>24.244753</td>\n",
              "      <td>0.357846</td>\n",
              "    </tr>\n",
              "    <tr>\n",
              "      <th>min</th>\n",
              "      <td>0.000000</td>\n",
              "      <td>32.000000</td>\n",
              "      <td>1.000000</td>\n",
              "      <td>NaN</td>\n",
              "      <td>NaN</td>\n",
              "      <td>0.000000</td>\n",
              "      <td>0.000000</td>\n",
              "      <td>0.000000</td>\n",
              "      <td>0.000000</td>\n",
              "      <td>0.000000</td>\n",
              "      <td>107.000000</td>\n",
              "      <td>83.50000</td>\n",
              "      <td>48.000000</td>\n",
              "      <td>15.960000</td>\n",
              "      <td>45.000000</td>\n",
              "      <td>40.000000</td>\n",
              "      <td>0.000000</td>\n",
              "    </tr>\n",
              "    <tr>\n",
              "      <th>25%</th>\n",
              "      <td>847.250000</td>\n",
              "      <td>42.000000</td>\n",
              "      <td>1.000000</td>\n",
              "      <td>NaN</td>\n",
              "      <td>NaN</td>\n",
              "      <td>0.000000</td>\n",
              "      <td>0.000000</td>\n",
              "      <td>0.000000</td>\n",
              "      <td>0.000000</td>\n",
              "      <td>0.000000</td>\n",
              "      <td>206.000000</td>\n",
              "      <td>117.00000</td>\n",
              "      <td>74.500000</td>\n",
              "      <td>23.020000</td>\n",
              "      <td>68.000000</td>\n",
              "      <td>71.000000</td>\n",
              "      <td>0.000000</td>\n",
              "    </tr>\n",
              "    <tr>\n",
              "      <th>50%</th>\n",
              "      <td>1694.500000</td>\n",
              "      <td>49.000000</td>\n",
              "      <td>2.000000</td>\n",
              "      <td>NaN</td>\n",
              "      <td>NaN</td>\n",
              "      <td>0.000000</td>\n",
              "      <td>0.000000</td>\n",
              "      <td>0.000000</td>\n",
              "      <td>0.000000</td>\n",
              "      <td>0.000000</td>\n",
              "      <td>234.000000</td>\n",
              "      <td>128.50000</td>\n",
              "      <td>82.000000</td>\n",
              "      <td>25.380000</td>\n",
              "      <td>75.000000</td>\n",
              "      <td>78.000000</td>\n",
              "      <td>0.000000</td>\n",
              "    </tr>\n",
              "    <tr>\n",
              "      <th>75%</th>\n",
              "      <td>2541.750000</td>\n",
              "      <td>56.000000</td>\n",
              "      <td>3.000000</td>\n",
              "      <td>NaN</td>\n",
              "      <td>NaN</td>\n",
              "      <td>20.000000</td>\n",
              "      <td>0.000000</td>\n",
              "      <td>0.000000</td>\n",
              "      <td>1.000000</td>\n",
              "      <td>0.000000</td>\n",
              "      <td>264.000000</td>\n",
              "      <td>144.00000</td>\n",
              "      <td>90.000000</td>\n",
              "      <td>28.040000</td>\n",
              "      <td>83.000000</td>\n",
              "      <td>87.000000</td>\n",
              "      <td>0.000000</td>\n",
              "    </tr>\n",
              "    <tr>\n",
              "      <th>max</th>\n",
              "      <td>3389.000000</td>\n",
              "      <td>70.000000</td>\n",
              "      <td>4.000000</td>\n",
              "      <td>NaN</td>\n",
              "      <td>NaN</td>\n",
              "      <td>70.000000</td>\n",
              "      <td>1.000000</td>\n",
              "      <td>1.000000</td>\n",
              "      <td>1.000000</td>\n",
              "      <td>1.000000</td>\n",
              "      <td>696.000000</td>\n",
              "      <td>295.00000</td>\n",
              "      <td>142.500000</td>\n",
              "      <td>56.800000</td>\n",
              "      <td>143.000000</td>\n",
              "      <td>394.000000</td>\n",
              "      <td>1.000000</td>\n",
              "    </tr>\n",
              "  </tbody>\n",
              "</table>\n",
              "</div>"
            ],
            "text/plain": [
              "                 id          age  ...      glucose   TenYearCHD\n",
              "count   3390.000000  3390.000000  ...  3086.000000  3390.000000\n",
              "unique          NaN          NaN  ...          NaN          NaN\n",
              "top             NaN          NaN  ...          NaN          NaN\n",
              "freq            NaN          NaN  ...          NaN          NaN\n",
              "mean    1694.500000    49.542183  ...    82.086520     0.150737\n",
              "std      978.753033     8.592878  ...    24.244753     0.357846\n",
              "min        0.000000    32.000000  ...    40.000000     0.000000\n",
              "25%      847.250000    42.000000  ...    71.000000     0.000000\n",
              "50%     1694.500000    49.000000  ...    78.000000     0.000000\n",
              "75%     2541.750000    56.000000  ...    87.000000     0.000000\n",
              "max     3389.000000    70.000000  ...   394.000000     1.000000\n",
              "\n",
              "[11 rows x 17 columns]"
            ]
          },
          "metadata": {},
          "execution_count": 5
        }
      ]
    },
    {
      "cell_type": "markdown",
      "metadata": {
        "id": "MIlosaFJD_Gm"
      },
      "source": [
        "#Outlier Detection"
      ]
    },
    {
      "cell_type": "code",
      "metadata": {
        "id": "CjVGIZudyAeM"
      },
      "source": [
        "num_features = ['age','cigsPerDay','totChol','sysBP','diaBP','BMI','heartRate','glucose']"
      ],
      "execution_count": 6,
      "outputs": []
    },
    {
      "cell_type": "code",
      "metadata": {
        "colab": {
          "base_uri": "https://localhost:8080/"
        },
        "id": "MzA5KQyQBCkP",
        "outputId": "d580f1db-40b3-4e17-e0c2-f8eda2d4db69"
      },
      "source": [
        "Q1 = df.quantile(0.25)\n",
        "Q3 = df.quantile(0.75)\n",
        "IQR = Q3 - Q1\n",
        "print(IQR)"
      ],
      "execution_count": 7,
      "outputs": [
        {
          "output_type": "stream",
          "name": "stdout",
          "text": [
            "id                 1694.50\n",
            "age                  14.00\n",
            "education             2.00\n",
            "cigsPerDay           20.00\n",
            "BPMeds                0.00\n",
            "prevalentStroke       0.00\n",
            "prevalentHyp          1.00\n",
            "diabetes              0.00\n",
            "totChol              58.00\n",
            "sysBP                27.00\n",
            "diaBP                15.50\n",
            "BMI                   5.02\n",
            "heartRate            15.00\n",
            "glucose              16.00\n",
            "TenYearCHD            0.00\n",
            "dtype: float64\n"
          ]
        }
      ]
    },
    {
      "cell_type": "code",
      "metadata": {
        "colab": {
          "base_uri": "https://localhost:8080/"
        },
        "id": "oVeA-wT7ESvf",
        "outputId": "d89f7763-88f8-42f5-dd23-f1c99b081e3c"
      },
      "source": [
        "print((df[num_features] < (Q1 - 1.5 * IQR)) | (df[num_features] > (Q3 + 1.5 * IQR)))"
      ],
      "execution_count": 8,
      "outputs": [
        {
          "output_type": "stream",
          "name": "stdout",
          "text": [
            "        BMI  BPMeds  TenYearCHD  ...  prevalentStroke  sysBP  totChol\n",
            "0     False   False       False  ...            False  False    False\n",
            "1     False   False       False  ...            False  False    False\n",
            "2     False   False       False  ...            False  False    False\n",
            "3     False   False       False  ...            False  False    False\n",
            "4     False   False       False  ...            False  False    False\n",
            "...     ...     ...         ...  ...              ...    ...      ...\n",
            "3385  False   False       False  ...            False  False    False\n",
            "3386  False   False       False  ...            False  False    False\n",
            "3387  False   False       False  ...            False  False     True\n",
            "3388  False   False       False  ...            False  False    False\n",
            "3389  False   False       False  ...            False  False    False\n",
            "\n",
            "[3390 rows x 15 columns]\n"
          ]
        }
      ]
    },
    {
      "cell_type": "code",
      "metadata": {
        "colab": {
          "base_uri": "https://localhost:8080/"
        },
        "id": "AgEd8HvD-tR7",
        "outputId": "f36c6c35-2558-44db-8c73-0276147c490d"
      },
      "source": [
        "df[num_features] = df[num_features][~((df[num_features] < (Q1 - 1.5 * IQR)) |(df[num_features] > (Q3 + 1.5 * IQR))).any(axis=1)]\n",
        "df.shape"
      ],
      "execution_count": 9,
      "outputs": [
        {
          "output_type": "execute_result",
          "data": {
            "text/plain": [
              "(3390, 17)"
            ]
          },
          "metadata": {},
          "execution_count": 9
        }
      ]
    },
    {
      "cell_type": "code",
      "metadata": {
        "colab": {
          "base_uri": "https://localhost:8080/",
          "height": 204
        },
        "id": "6Wq47SiuFE3l",
        "outputId": "2c2322da-b86b-4fe5-fba3-f4eb2b9d0dcc"
      },
      "source": [
        "df.head()"
      ],
      "execution_count": 10,
      "outputs": [
        {
          "output_type": "execute_result",
          "data": {
            "text/html": [
              "<div>\n",
              "<style scoped>\n",
              "    .dataframe tbody tr th:only-of-type {\n",
              "        vertical-align: middle;\n",
              "    }\n",
              "\n",
              "    .dataframe tbody tr th {\n",
              "        vertical-align: top;\n",
              "    }\n",
              "\n",
              "    .dataframe thead th {\n",
              "        text-align: right;\n",
              "    }\n",
              "</style>\n",
              "<table border=\"1\" class=\"dataframe\">\n",
              "  <thead>\n",
              "    <tr style=\"text-align: right;\">\n",
              "      <th></th>\n",
              "      <th>id</th>\n",
              "      <th>age</th>\n",
              "      <th>education</th>\n",
              "      <th>sex</th>\n",
              "      <th>is_smoking</th>\n",
              "      <th>cigsPerDay</th>\n",
              "      <th>BPMeds</th>\n",
              "      <th>prevalentStroke</th>\n",
              "      <th>prevalentHyp</th>\n",
              "      <th>diabetes</th>\n",
              "      <th>totChol</th>\n",
              "      <th>sysBP</th>\n",
              "      <th>diaBP</th>\n",
              "      <th>BMI</th>\n",
              "      <th>heartRate</th>\n",
              "      <th>glucose</th>\n",
              "      <th>TenYearCHD</th>\n",
              "    </tr>\n",
              "  </thead>\n",
              "  <tbody>\n",
              "    <tr>\n",
              "      <th>0</th>\n",
              "      <td>0</td>\n",
              "      <td>64.0</td>\n",
              "      <td>2.0</td>\n",
              "      <td>F</td>\n",
              "      <td>YES</td>\n",
              "      <td>3.0</td>\n",
              "      <td>0.0</td>\n",
              "      <td>0</td>\n",
              "      <td>0</td>\n",
              "      <td>0</td>\n",
              "      <td>221.0</td>\n",
              "      <td>148.0</td>\n",
              "      <td>85.0</td>\n",
              "      <td>NaN</td>\n",
              "      <td>90.0</td>\n",
              "      <td>80.0</td>\n",
              "      <td>1</td>\n",
              "    </tr>\n",
              "    <tr>\n",
              "      <th>1</th>\n",
              "      <td>1</td>\n",
              "      <td>36.0</td>\n",
              "      <td>4.0</td>\n",
              "      <td>M</td>\n",
              "      <td>NO</td>\n",
              "      <td>0.0</td>\n",
              "      <td>0.0</td>\n",
              "      <td>0</td>\n",
              "      <td>1</td>\n",
              "      <td>0</td>\n",
              "      <td>212.0</td>\n",
              "      <td>168.0</td>\n",
              "      <td>98.0</td>\n",
              "      <td>29.77</td>\n",
              "      <td>72.0</td>\n",
              "      <td>75.0</td>\n",
              "      <td>0</td>\n",
              "    </tr>\n",
              "    <tr>\n",
              "      <th>2</th>\n",
              "      <td>2</td>\n",
              "      <td>46.0</td>\n",
              "      <td>1.0</td>\n",
              "      <td>F</td>\n",
              "      <td>YES</td>\n",
              "      <td>10.0</td>\n",
              "      <td>0.0</td>\n",
              "      <td>0</td>\n",
              "      <td>0</td>\n",
              "      <td>0</td>\n",
              "      <td>250.0</td>\n",
              "      <td>116.0</td>\n",
              "      <td>71.0</td>\n",
              "      <td>20.35</td>\n",
              "      <td>88.0</td>\n",
              "      <td>94.0</td>\n",
              "      <td>0</td>\n",
              "    </tr>\n",
              "    <tr>\n",
              "      <th>3</th>\n",
              "      <td>3</td>\n",
              "      <td>50.0</td>\n",
              "      <td>1.0</td>\n",
              "      <td>M</td>\n",
              "      <td>YES</td>\n",
              "      <td>20.0</td>\n",
              "      <td>0.0</td>\n",
              "      <td>0</td>\n",
              "      <td>1</td>\n",
              "      <td>0</td>\n",
              "      <td>233.0</td>\n",
              "      <td>158.0</td>\n",
              "      <td>88.0</td>\n",
              "      <td>28.26</td>\n",
              "      <td>68.0</td>\n",
              "      <td>94.0</td>\n",
              "      <td>1</td>\n",
              "    </tr>\n",
              "    <tr>\n",
              "      <th>4</th>\n",
              "      <td>4</td>\n",
              "      <td>64.0</td>\n",
              "      <td>1.0</td>\n",
              "      <td>F</td>\n",
              "      <td>YES</td>\n",
              "      <td>30.0</td>\n",
              "      <td>0.0</td>\n",
              "      <td>0</td>\n",
              "      <td>0</td>\n",
              "      <td>0</td>\n",
              "      <td>241.0</td>\n",
              "      <td>136.5</td>\n",
              "      <td>85.0</td>\n",
              "      <td>26.42</td>\n",
              "      <td>70.0</td>\n",
              "      <td>77.0</td>\n",
              "      <td>0</td>\n",
              "    </tr>\n",
              "  </tbody>\n",
              "</table>\n",
              "</div>"
            ],
            "text/plain": [
              "   id   age  education sex  ...    BMI  heartRate  glucose  TenYearCHD\n",
              "0   0  64.0        2.0   F  ...    NaN       90.0     80.0           1\n",
              "1   1  36.0        4.0   M  ...  29.77       72.0     75.0           0\n",
              "2   2  46.0        1.0   F  ...  20.35       88.0     94.0           0\n",
              "3   3  50.0        1.0   M  ...  28.26       68.0     94.0           1\n",
              "4   4  64.0        1.0   F  ...  26.42       70.0     77.0           0\n",
              "\n",
              "[5 rows x 17 columns]"
            ]
          },
          "metadata": {},
          "execution_count": 10
        }
      ]
    },
    {
      "cell_type": "markdown",
      "metadata": {
        "id": "RxosK7t1AbRT"
      },
      "source": [
        "#Dummies"
      ]
    },
    {
      "cell_type": "code",
      "metadata": {
        "id": "7AXGfL7FFYLf"
      },
      "source": [
        "sex = pd.get_dummies(df['sex'],prefix='sex')\n",
        "# sex = sex.drop(['sex_0'],axis=1)\n",
        "\n",
        "is_smoking = pd.get_dummies(df['is_smoking'],prefix='is_smoking')\n",
        "# is_smoking = is_smoking.drop(['is_smoking_0'],axis=1)"
      ],
      "execution_count": 11,
      "outputs": []
    },
    {
      "cell_type": "code",
      "metadata": {
        "colab": {
          "base_uri": "https://localhost:8080/",
          "height": 224
        },
        "id": "fotFsu_2HEDP",
        "outputId": "3da7679b-3e36-44eb-a80a-d7bd3e91f890"
      },
      "source": [
        "df = pd.concat([df,sex,is_smoking],axis=1)\n",
        "# df = df.drop(['sex','is_smoking'],axis=1)\n",
        "df.head()"
      ],
      "execution_count": 12,
      "outputs": [
        {
          "output_type": "execute_result",
          "data": {
            "text/html": [
              "<div>\n",
              "<style scoped>\n",
              "    .dataframe tbody tr th:only-of-type {\n",
              "        vertical-align: middle;\n",
              "    }\n",
              "\n",
              "    .dataframe tbody tr th {\n",
              "        vertical-align: top;\n",
              "    }\n",
              "\n",
              "    .dataframe thead th {\n",
              "        text-align: right;\n",
              "    }\n",
              "</style>\n",
              "<table border=\"1\" class=\"dataframe\">\n",
              "  <thead>\n",
              "    <tr style=\"text-align: right;\">\n",
              "      <th></th>\n",
              "      <th>id</th>\n",
              "      <th>age</th>\n",
              "      <th>education</th>\n",
              "      <th>sex</th>\n",
              "      <th>is_smoking</th>\n",
              "      <th>cigsPerDay</th>\n",
              "      <th>BPMeds</th>\n",
              "      <th>prevalentStroke</th>\n",
              "      <th>prevalentHyp</th>\n",
              "      <th>diabetes</th>\n",
              "      <th>totChol</th>\n",
              "      <th>sysBP</th>\n",
              "      <th>diaBP</th>\n",
              "      <th>BMI</th>\n",
              "      <th>heartRate</th>\n",
              "      <th>glucose</th>\n",
              "      <th>TenYearCHD</th>\n",
              "      <th>sex_F</th>\n",
              "      <th>sex_M</th>\n",
              "      <th>is_smoking_NO</th>\n",
              "      <th>is_smoking_YES</th>\n",
              "    </tr>\n",
              "  </thead>\n",
              "  <tbody>\n",
              "    <tr>\n",
              "      <th>0</th>\n",
              "      <td>0</td>\n",
              "      <td>64.0</td>\n",
              "      <td>2.0</td>\n",
              "      <td>F</td>\n",
              "      <td>YES</td>\n",
              "      <td>3.0</td>\n",
              "      <td>0.0</td>\n",
              "      <td>0</td>\n",
              "      <td>0</td>\n",
              "      <td>0</td>\n",
              "      <td>221.0</td>\n",
              "      <td>148.0</td>\n",
              "      <td>85.0</td>\n",
              "      <td>NaN</td>\n",
              "      <td>90.0</td>\n",
              "      <td>80.0</td>\n",
              "      <td>1</td>\n",
              "      <td>1</td>\n",
              "      <td>0</td>\n",
              "      <td>0</td>\n",
              "      <td>1</td>\n",
              "    </tr>\n",
              "    <tr>\n",
              "      <th>1</th>\n",
              "      <td>1</td>\n",
              "      <td>36.0</td>\n",
              "      <td>4.0</td>\n",
              "      <td>M</td>\n",
              "      <td>NO</td>\n",
              "      <td>0.0</td>\n",
              "      <td>0.0</td>\n",
              "      <td>0</td>\n",
              "      <td>1</td>\n",
              "      <td>0</td>\n",
              "      <td>212.0</td>\n",
              "      <td>168.0</td>\n",
              "      <td>98.0</td>\n",
              "      <td>29.77</td>\n",
              "      <td>72.0</td>\n",
              "      <td>75.0</td>\n",
              "      <td>0</td>\n",
              "      <td>0</td>\n",
              "      <td>1</td>\n",
              "      <td>1</td>\n",
              "      <td>0</td>\n",
              "    </tr>\n",
              "    <tr>\n",
              "      <th>2</th>\n",
              "      <td>2</td>\n",
              "      <td>46.0</td>\n",
              "      <td>1.0</td>\n",
              "      <td>F</td>\n",
              "      <td>YES</td>\n",
              "      <td>10.0</td>\n",
              "      <td>0.0</td>\n",
              "      <td>0</td>\n",
              "      <td>0</td>\n",
              "      <td>0</td>\n",
              "      <td>250.0</td>\n",
              "      <td>116.0</td>\n",
              "      <td>71.0</td>\n",
              "      <td>20.35</td>\n",
              "      <td>88.0</td>\n",
              "      <td>94.0</td>\n",
              "      <td>0</td>\n",
              "      <td>1</td>\n",
              "      <td>0</td>\n",
              "      <td>0</td>\n",
              "      <td>1</td>\n",
              "    </tr>\n",
              "    <tr>\n",
              "      <th>3</th>\n",
              "      <td>3</td>\n",
              "      <td>50.0</td>\n",
              "      <td>1.0</td>\n",
              "      <td>M</td>\n",
              "      <td>YES</td>\n",
              "      <td>20.0</td>\n",
              "      <td>0.0</td>\n",
              "      <td>0</td>\n",
              "      <td>1</td>\n",
              "      <td>0</td>\n",
              "      <td>233.0</td>\n",
              "      <td>158.0</td>\n",
              "      <td>88.0</td>\n",
              "      <td>28.26</td>\n",
              "      <td>68.0</td>\n",
              "      <td>94.0</td>\n",
              "      <td>1</td>\n",
              "      <td>0</td>\n",
              "      <td>1</td>\n",
              "      <td>0</td>\n",
              "      <td>1</td>\n",
              "    </tr>\n",
              "    <tr>\n",
              "      <th>4</th>\n",
              "      <td>4</td>\n",
              "      <td>64.0</td>\n",
              "      <td>1.0</td>\n",
              "      <td>F</td>\n",
              "      <td>YES</td>\n",
              "      <td>30.0</td>\n",
              "      <td>0.0</td>\n",
              "      <td>0</td>\n",
              "      <td>0</td>\n",
              "      <td>0</td>\n",
              "      <td>241.0</td>\n",
              "      <td>136.5</td>\n",
              "      <td>85.0</td>\n",
              "      <td>26.42</td>\n",
              "      <td>70.0</td>\n",
              "      <td>77.0</td>\n",
              "      <td>0</td>\n",
              "      <td>1</td>\n",
              "      <td>0</td>\n",
              "      <td>0</td>\n",
              "      <td>1</td>\n",
              "    </tr>\n",
              "  </tbody>\n",
              "</table>\n",
              "</div>"
            ],
            "text/plain": [
              "   id   age  education sex  ... sex_F  sex_M  is_smoking_NO  is_smoking_YES\n",
              "0   0  64.0        2.0   F  ...     1      0              0               1\n",
              "1   1  36.0        4.0   M  ...     0      1              1               0\n",
              "2   2  46.0        1.0   F  ...     1      0              0               1\n",
              "3   3  50.0        1.0   M  ...     0      1              0               1\n",
              "4   4  64.0        1.0   F  ...     1      0              0               1\n",
              "\n",
              "[5 rows x 21 columns]"
            ]
          },
          "metadata": {},
          "execution_count": 12
        }
      ]
    },
    {
      "cell_type": "markdown",
      "metadata": {
        "id": "Nkd3A-Myw-sN"
      },
      "source": [
        "# To check Null values"
      ]
    },
    {
      "cell_type": "code",
      "metadata": {
        "colab": {
          "base_uri": "https://localhost:8080/",
          "height": 0
        },
        "id": "NNry66cVwlqA",
        "outputId": "2e889125-bc88-44df-f759-dd047406ab76"
      },
      "source": [
        "# to form dataframe of null values and represent them in %age form which will be helpfull in knowing if we had \n",
        "# to drop any column right away\n",
        "\n",
        "missing_values = pd.DataFrame(df.isnull().mean()*100) \n",
        "missing_values"
      ],
      "execution_count": 13,
      "outputs": [
        {
          "output_type": "execute_result",
          "data": {
            "text/html": [
              "<div>\n",
              "<style scoped>\n",
              "    .dataframe tbody tr th:only-of-type {\n",
              "        vertical-align: middle;\n",
              "    }\n",
              "\n",
              "    .dataframe tbody tr th {\n",
              "        vertical-align: top;\n",
              "    }\n",
              "\n",
              "    .dataframe thead th {\n",
              "        text-align: right;\n",
              "    }\n",
              "</style>\n",
              "<table border=\"1\" class=\"dataframe\">\n",
              "  <thead>\n",
              "    <tr style=\"text-align: right;\">\n",
              "      <th></th>\n",
              "      <th>0</th>\n",
              "    </tr>\n",
              "  </thead>\n",
              "  <tbody>\n",
              "    <tr>\n",
              "      <th>id</th>\n",
              "      <td>0.000000</td>\n",
              "    </tr>\n",
              "    <tr>\n",
              "      <th>age</th>\n",
              "      <td>12.241888</td>\n",
              "    </tr>\n",
              "    <tr>\n",
              "      <th>education</th>\n",
              "      <td>2.566372</td>\n",
              "    </tr>\n",
              "    <tr>\n",
              "      <th>sex</th>\n",
              "      <td>0.000000</td>\n",
              "    </tr>\n",
              "    <tr>\n",
              "      <th>is_smoking</th>\n",
              "      <td>0.000000</td>\n",
              "    </tr>\n",
              "    <tr>\n",
              "      <th>cigsPerDay</th>\n",
              "      <td>12.772861</td>\n",
              "    </tr>\n",
              "    <tr>\n",
              "      <th>BPMeds</th>\n",
              "      <td>1.297935</td>\n",
              "    </tr>\n",
              "    <tr>\n",
              "      <th>prevalentStroke</th>\n",
              "      <td>0.000000</td>\n",
              "    </tr>\n",
              "    <tr>\n",
              "      <th>prevalentHyp</th>\n",
              "      <td>0.000000</td>\n",
              "    </tr>\n",
              "    <tr>\n",
              "      <th>diabetes</th>\n",
              "      <td>0.000000</td>\n",
              "    </tr>\n",
              "    <tr>\n",
              "      <th>totChol</th>\n",
              "      <td>13.215339</td>\n",
              "    </tr>\n",
              "    <tr>\n",
              "      <th>sysBP</th>\n",
              "      <td>12.241888</td>\n",
              "    </tr>\n",
              "    <tr>\n",
              "      <th>diaBP</th>\n",
              "      <td>12.241888</td>\n",
              "    </tr>\n",
              "    <tr>\n",
              "      <th>BMI</th>\n",
              "      <td>12.566372</td>\n",
              "    </tr>\n",
              "    <tr>\n",
              "      <th>heartRate</th>\n",
              "      <td>12.271386</td>\n",
              "    </tr>\n",
              "    <tr>\n",
              "      <th>glucose</th>\n",
              "      <td>20.442478</td>\n",
              "    </tr>\n",
              "    <tr>\n",
              "      <th>TenYearCHD</th>\n",
              "      <td>0.000000</td>\n",
              "    </tr>\n",
              "    <tr>\n",
              "      <th>sex_F</th>\n",
              "      <td>0.000000</td>\n",
              "    </tr>\n",
              "    <tr>\n",
              "      <th>sex_M</th>\n",
              "      <td>0.000000</td>\n",
              "    </tr>\n",
              "    <tr>\n",
              "      <th>is_smoking_NO</th>\n",
              "      <td>0.000000</td>\n",
              "    </tr>\n",
              "    <tr>\n",
              "      <th>is_smoking_YES</th>\n",
              "      <td>0.000000</td>\n",
              "    </tr>\n",
              "  </tbody>\n",
              "</table>\n",
              "</div>"
            ],
            "text/plain": [
              "                         0\n",
              "id                0.000000\n",
              "age              12.241888\n",
              "education         2.566372\n",
              "sex               0.000000\n",
              "is_smoking        0.000000\n",
              "cigsPerDay       12.772861\n",
              "BPMeds            1.297935\n",
              "prevalentStroke   0.000000\n",
              "prevalentHyp      0.000000\n",
              "diabetes          0.000000\n",
              "totChol          13.215339\n",
              "sysBP            12.241888\n",
              "diaBP            12.241888\n",
              "BMI              12.566372\n",
              "heartRate        12.271386\n",
              "glucose          20.442478\n",
              "TenYearCHD        0.000000\n",
              "sex_F             0.000000\n",
              "sex_M             0.000000\n",
              "is_smoking_NO     0.000000\n",
              "is_smoking_YES    0.000000"
            ]
          },
          "metadata": {},
          "execution_count": 13
        }
      ]
    },
    {
      "cell_type": "code",
      "metadata": {
        "colab": {
          "base_uri": "https://localhost:8080/"
        },
        "id": "Nii_7YlTw4Xu",
        "outputId": "c57206d6-cc10-4a98-c1ec-8a8437af0cdf"
      },
      "source": [
        "df.isnull().sum()"
      ],
      "execution_count": 14,
      "outputs": [
        {
          "output_type": "execute_result",
          "data": {
            "text/plain": [
              "id                   0\n",
              "age                415\n",
              "education           87\n",
              "sex                  0\n",
              "is_smoking           0\n",
              "cigsPerDay         433\n",
              "BPMeds              44\n",
              "prevalentStroke      0\n",
              "prevalentHyp         0\n",
              "diabetes             0\n",
              "totChol            448\n",
              "sysBP              415\n",
              "diaBP              415\n",
              "BMI                426\n",
              "heartRate          416\n",
              "glucose            693\n",
              "TenYearCHD           0\n",
              "sex_F                0\n",
              "sex_M                0\n",
              "is_smoking_NO        0\n",
              "is_smoking_YES       0\n",
              "dtype: int64"
            ]
          },
          "metadata": {},
          "execution_count": 14
        }
      ]
    },
    {
      "cell_type": "code",
      "metadata": {
        "colab": {
          "base_uri": "https://localhost:8080/"
        },
        "id": "_63LO_rhyiYR",
        "outputId": "a4578ad3-3498-4780-d072-30c356eb247b"
      },
      "source": [
        "list(df['BPMeds'].unique())"
      ],
      "execution_count": 15,
      "outputs": [
        {
          "output_type": "execute_result",
          "data": {
            "text/plain": [
              "[0.0, nan, 1.0]"
            ]
          },
          "metadata": {},
          "execution_count": 15
        }
      ]
    },
    {
      "cell_type": "code",
      "metadata": {
        "colab": {
          "base_uri": "https://localhost:8080/"
        },
        "id": "4Yr9k0XWyuEd",
        "outputId": "809e86e1-608c-4bea-aa1e-9761c0164d82"
      },
      "source": [
        "list(df['education'].unique())"
      ],
      "execution_count": 16,
      "outputs": [
        {
          "output_type": "execute_result",
          "data": {
            "text/plain": [
              "[2.0, 4.0, 1.0, 3.0, nan]"
            ]
          },
          "metadata": {},
          "execution_count": 16
        }
      ]
    },
    {
      "cell_type": "code",
      "metadata": {
        "id": "aU9n_MfeyBWE"
      },
      "source": [
        "# BMI, totChol, cigsperDay, glucose, heartRate, diaBP, sysBP, age\n",
        "# are some parameters whose missing values can be easily filled with mean values of that resp. column.\n",
        "# BPMeds, Education are some parameters whose missing values can be easily filled with mode values of that resp. column"
      ],
      "execution_count": 17,
      "outputs": []
    },
    {
      "cell_type": "code",
      "metadata": {
        "id": "j2Q0ZqMS3QQ5"
      },
      "source": [
        "df['BMI'] = df['BMI'].fillna(df['BMI'].mean())\n",
        "df['totChol'] = df['totChol'].fillna(df['totChol'].mean())\n",
        "df['cigsPerDay'] = df['cigsPerDay'].fillna(df['cigsPerDay'].mean())\n",
        "df['glucose'] = df['glucose'].fillna(df['glucose'].mean())\n",
        "df['heartRate'] = df['heartRate'].fillna(df['heartRate'].mean())\n",
        "df['diaBP'] = df['diaBP'].fillna(df['diaBP'].mean())\n",
        "df['sysBP'] = df['sysBP'].fillna(df['sysBP'].mean())\n",
        "df['age'] = df['age'].fillna(df['age'].mean())"
      ],
      "execution_count": 18,
      "outputs": []
    },
    {
      "cell_type": "code",
      "metadata": {
        "id": "2ONqDziP3iY8"
      },
      "source": [
        "df['BPMeds'] = df['BPMeds'].fillna(df['BPMeds'].mode()[0])\n",
        "df['education'] = df['education'].fillna(df['education'].mode()[0])"
      ],
      "execution_count": 19,
      "outputs": []
    },
    {
      "cell_type": "code",
      "metadata": {
        "colab": {
          "base_uri": "https://localhost:8080/"
        },
        "id": "WmuEbuR8_LTa",
        "outputId": "5aa2521c-16ba-4515-f763-b087617279f3"
      },
      "source": [
        "df.isnull().sum()"
      ],
      "execution_count": 20,
      "outputs": [
        {
          "output_type": "execute_result",
          "data": {
            "text/plain": [
              "id                 0\n",
              "age                0\n",
              "education          0\n",
              "sex                0\n",
              "is_smoking         0\n",
              "cigsPerDay         0\n",
              "BPMeds             0\n",
              "prevalentStroke    0\n",
              "prevalentHyp       0\n",
              "diabetes           0\n",
              "totChol            0\n",
              "sysBP              0\n",
              "diaBP              0\n",
              "BMI                0\n",
              "heartRate          0\n",
              "glucose            0\n",
              "TenYearCHD         0\n",
              "sex_F              0\n",
              "sex_M              0\n",
              "is_smoking_NO      0\n",
              "is_smoking_YES     0\n",
              "dtype: int64"
            ]
          },
          "metadata": {},
          "execution_count": 20
        }
      ]
    },
    {
      "cell_type": "markdown",
      "metadata": {
        "id": "H2mKkCPuOyRI"
      },
      "source": [
        "#EDA"
      ]
    },
    {
      "cell_type": "code",
      "metadata": {
        "colab": {
          "base_uri": "https://localhost:8080/",
          "height": 0
        },
        "id": "cw7BginfOuWn",
        "outputId": "8d71dac6-e42c-4e18-861f-a2b5c941d831"
      },
      "source": [
        "plt.figure(figsize=(15,12))\n",
        "sns.heatmap(df.corr('pearson'),vmin=-1, vmax=1,cmap='coolwarm',annot=True, square=True)"
      ],
      "execution_count": 21,
      "outputs": [
        {
          "output_type": "execute_result",
          "data": {
            "text/plain": [
              "<matplotlib.axes._subplots.AxesSubplot at 0x7fb79a752950>"
            ]
          },
          "metadata": {},
          "execution_count": 21
        },
        {
          "output_type": "display_data",
          "data": {
            "image/png": "[encoded data removed]",
            "text/plain": [
              "<Figure size 1080x864 with 2 Axes>"
            ]
          },
          "metadata": {
            "needs_background": "light"
          }
        }
      ]
    },
    {
      "cell_type": "code",
      "metadata": {
        "colab": {
          "base_uri": "https://localhost:8080/",
          "height": 0
        },
        "id": "APPrrWoUPkYa",
        "outputId": "af70586d-ae42-4406-d888-51da6a251de1"
      },
      "source": [
        "a = pd.DataFrame(df.loc[df['TenYearCHD'] == 1,'cigsPerDay'])\n",
        "sns.displot(a['cigsPerDay'])\n",
        "plt.title('Cigratte Count of People with Heart Disease per day')"
      ],
      "execution_count": 22,
      "outputs": [
        {
          "output_type": "execute_result",
          "data": {
            "text/plain": [
              "Text(0.5, 1.0, 'Cigratte Count of People with Heart Disease per day')"
            ]
          },
          "metadata": {},
          "execution_count": 22
        },
        {
          "output_type": "display_data",
          "data": {
            "image/png": "[encoded data removed]",
            "text/plain": [
              "<Figure size 360x360 with 1 Axes>"
            ]
          },
          "metadata": {
            "needs_background": "light"
          }
        }
      ]
    },
    {
      "cell_type": "code",
      "metadata": {
        "colab": {
          "base_uri": "https://localhost:8080/",
          "height": 0
        },
        "id": "vDZ9uwSajw7M",
        "outputId": "a880c8d9-2d28-43c7-8c4a-c91f9e79a9a4"
      },
      "source": [
        "b = pd.DataFrame(df.loc[(df['is_smoking']=='YES') & (df['TenYearCHD']==1)])\n",
        "sns.barplot(x = 'diabetes', y = 'cigsPerDay', data = b)\n",
        "plt.title('Cigs Per Day with Heart Disease for Diabetic vs Non-Diabetic')"
      ],
      "execution_count": 23,
      "outputs": [
        {
          "output_type": "execute_result",
          "data": {
            "text/plain": [
              "Text(0.5, 1.0, 'Cigs Per Day with Heart Disease for Diabetic vs Non-Diabetic')"
            ]
          },
          "metadata": {},
          "execution_count": 23
        },
        {
          "output_type": "display_data",
          "data": {
            "image/png": "[encoded data removed]",
            "text/plain": [
              "<Figure size 432x288 with 1 Axes>"
            ]
          },
          "metadata": {
            "needs_background": "light"
          }
        }
      ]
    },
    {
      "cell_type": "code",
      "metadata": {
        "id": "R2Z1NnGkkamH"
      },
      "source": [
        ""
      ],
      "execution_count": 23,
      "outputs": []
    },
    {
      "cell_type": "code",
      "metadata": {
        "colab": {
          "base_uri": "https://localhost:8080/",
          "height": 0
        },
        "id": "snREOfaog-wV",
        "outputId": "897b8a1a-50c9-44ed-9047-06d754c3152e"
      },
      "source": [
        "df.loc[df['cigsPerDay'] >= 45]"
      ],
      "execution_count": 24,
      "outputs": [
        {
          "output_type": "execute_result",
          "data": {
            "text/html": [
              "<div>\n",
              "<style scoped>\n",
              "    .dataframe tbody tr th:only-of-type {\n",
              "        vertical-align: middle;\n",
              "    }\n",
              "\n",
              "    .dataframe tbody tr th {\n",
              "        vertical-align: top;\n",
              "    }\n",
              "\n",
              "    .dataframe thead th {\n",
              "        text-align: right;\n",
              "    }\n",
              "</style>\n",
              "<table border=\"1\" class=\"dataframe\">\n",
              "  <thead>\n",
              "    <tr style=\"text-align: right;\">\n",
              "      <th></th>\n",
              "      <th>id</th>\n",
              "      <th>age</th>\n",
              "      <th>education</th>\n",
              "      <th>sex</th>\n",
              "      <th>is_smoking</th>\n",
              "      <th>cigsPerDay</th>\n",
              "      <th>BPMeds</th>\n",
              "      <th>prevalentStroke</th>\n",
              "      <th>prevalentHyp</th>\n",
              "      <th>diabetes</th>\n",
              "      <th>totChol</th>\n",
              "      <th>sysBP</th>\n",
              "      <th>diaBP</th>\n",
              "      <th>BMI</th>\n",
              "      <th>heartRate</th>\n",
              "      <th>glucose</th>\n",
              "      <th>TenYearCHD</th>\n",
              "      <th>sex_F</th>\n",
              "      <th>sex_M</th>\n",
              "      <th>is_smoking_NO</th>\n",
              "      <th>is_smoking_YES</th>\n",
              "    </tr>\n",
              "  </thead>\n",
              "  <tbody>\n",
              "    <tr>\n",
              "      <th>195</th>\n",
              "      <td>195</td>\n",
              "      <td>38.0</td>\n",
              "      <td>2.0</td>\n",
              "      <td>M</td>\n",
              "      <td>YES</td>\n",
              "      <td>50.0</td>\n",
              "      <td>0.0</td>\n",
              "      <td>0</td>\n",
              "      <td>0</td>\n",
              "      <td>0</td>\n",
              "      <td>300.0</td>\n",
              "      <td>120.0</td>\n",
              "      <td>74.0</td>\n",
              "      <td>28.74</td>\n",
              "      <td>70.0</td>\n",
              "      <td>78.000000</td>\n",
              "      <td>0</td>\n",
              "      <td>0</td>\n",
              "      <td>1</td>\n",
              "      <td>0</td>\n",
              "      <td>1</td>\n",
              "    </tr>\n",
              "    <tr>\n",
              "      <th>244</th>\n",
              "      <td>244</td>\n",
              "      <td>51.0</td>\n",
              "      <td>1.0</td>\n",
              "      <td>M</td>\n",
              "      <td>YES</td>\n",
              "      <td>50.0</td>\n",
              "      <td>0.0</td>\n",
              "      <td>0</td>\n",
              "      <td>0</td>\n",
              "      <td>0</td>\n",
              "      <td>335.0</td>\n",
              "      <td>125.5</td>\n",
              "      <td>94.0</td>\n",
              "      <td>27.77</td>\n",
              "      <td>80.0</td>\n",
              "      <td>67.000000</td>\n",
              "      <td>0</td>\n",
              "      <td>0</td>\n",
              "      <td>1</td>\n",
              "      <td>0</td>\n",
              "      <td>1</td>\n",
              "    </tr>\n",
              "    <tr>\n",
              "      <th>253</th>\n",
              "      <td>253</td>\n",
              "      <td>55.0</td>\n",
              "      <td>1.0</td>\n",
              "      <td>M</td>\n",
              "      <td>YES</td>\n",
              "      <td>45.0</td>\n",
              "      <td>0.0</td>\n",
              "      <td>0</td>\n",
              "      <td>0</td>\n",
              "      <td>0</td>\n",
              "      <td>345.0</td>\n",
              "      <td>134.0</td>\n",
              "      <td>89.0</td>\n",
              "      <td>27.38</td>\n",
              "      <td>72.0</td>\n",
              "      <td>60.000000</td>\n",
              "      <td>0</td>\n",
              "      <td>0</td>\n",
              "      <td>1</td>\n",
              "      <td>0</td>\n",
              "      <td>1</td>\n",
              "    </tr>\n",
              "    <tr>\n",
              "      <th>281</th>\n",
              "      <td>281</td>\n",
              "      <td>43.0</td>\n",
              "      <td>2.0</td>\n",
              "      <td>M</td>\n",
              "      <td>YES</td>\n",
              "      <td>45.0</td>\n",
              "      <td>0.0</td>\n",
              "      <td>0</td>\n",
              "      <td>1</td>\n",
              "      <td>0</td>\n",
              "      <td>201.0</td>\n",
              "      <td>126.0</td>\n",
              "      <td>82.0</td>\n",
              "      <td>29.48</td>\n",
              "      <td>76.0</td>\n",
              "      <td>92.000000</td>\n",
              "      <td>0</td>\n",
              "      <td>0</td>\n",
              "      <td>1</td>\n",
              "      <td>0</td>\n",
              "      <td>1</td>\n",
              "    </tr>\n",
              "    <tr>\n",
              "      <th>1146</th>\n",
              "      <td>1146</td>\n",
              "      <td>47.0</td>\n",
              "      <td>2.0</td>\n",
              "      <td>M</td>\n",
              "      <td>YES</td>\n",
              "      <td>50.0</td>\n",
              "      <td>0.0</td>\n",
              "      <td>0</td>\n",
              "      <td>0</td>\n",
              "      <td>0</td>\n",
              "      <td>217.0</td>\n",
              "      <td>145.0</td>\n",
              "      <td>89.0</td>\n",
              "      <td>28.88</td>\n",
              "      <td>82.0</td>\n",
              "      <td>75.000000</td>\n",
              "      <td>0</td>\n",
              "      <td>0</td>\n",
              "      <td>1</td>\n",
              "      <td>0</td>\n",
              "      <td>1</td>\n",
              "    </tr>\n",
              "    <tr>\n",
              "      <th>1847</th>\n",
              "      <td>1847</td>\n",
              "      <td>53.0</td>\n",
              "      <td>1.0</td>\n",
              "      <td>M</td>\n",
              "      <td>YES</td>\n",
              "      <td>50.0</td>\n",
              "      <td>0.0</td>\n",
              "      <td>0</td>\n",
              "      <td>0</td>\n",
              "      <td>0</td>\n",
              "      <td>306.0</td>\n",
              "      <td>127.0</td>\n",
              "      <td>82.5</td>\n",
              "      <td>31.22</td>\n",
              "      <td>72.0</td>\n",
              "      <td>78.313682</td>\n",
              "      <td>0</td>\n",
              "      <td>0</td>\n",
              "      <td>1</td>\n",
              "      <td>0</td>\n",
              "      <td>1</td>\n",
              "    </tr>\n",
              "    <tr>\n",
              "      <th>2244</th>\n",
              "      <td>2244</td>\n",
              "      <td>40.0</td>\n",
              "      <td>1.0</td>\n",
              "      <td>F</td>\n",
              "      <td>YES</td>\n",
              "      <td>50.0</td>\n",
              "      <td>0.0</td>\n",
              "      <td>0</td>\n",
              "      <td>0</td>\n",
              "      <td>0</td>\n",
              "      <td>220.0</td>\n",
              "      <td>124.0</td>\n",
              "      <td>79.0</td>\n",
              "      <td>20.70</td>\n",
              "      <td>90.0</td>\n",
              "      <td>57.000000</td>\n",
              "      <td>0</td>\n",
              "      <td>1</td>\n",
              "      <td>0</td>\n",
              "      <td>0</td>\n",
              "      <td>1</td>\n",
              "    </tr>\n",
              "  </tbody>\n",
              "</table>\n",
              "</div>"
            ],
            "text/plain": [
              "        id   age  education sex  ... sex_F  sex_M  is_smoking_NO  is_smoking_YES\n",
              "195    195  38.0        2.0   M  ...     0      1              0               1\n",
              "244    244  51.0        1.0   M  ...     0      1              0               1\n",
              "253    253  55.0        1.0   M  ...     0      1              0               1\n",
              "281    281  43.0        2.0   M  ...     0      1              0               1\n",
              "1146  1146  47.0        2.0   M  ...     0      1              0               1\n",
              "1847  1847  53.0        1.0   M  ...     0      1              0               1\n",
              "2244  2244  40.0        1.0   F  ...     1      0              0               1\n",
              "\n",
              "[7 rows x 21 columns]"
            ]
          },
          "metadata": {},
          "execution_count": 24
        }
      ]
    },
    {
      "cell_type": "code",
      "metadata": {
        "colab": {
          "base_uri": "https://localhost:8080/",
          "height": 0
        },
        "id": "lRVnUyXiP04C",
        "outputId": "fc548a4e-f483-4f72-bce6-efa31b934f3c"
      },
      "source": [
        "plt.figure(figsize=(12,7))\n",
        "sns.barplot(x='sex', y = 'cigsPerDay', data= df)\n",
        "plt.title('Female vs Male - cigratte Count per day')\n",
        "plt.show()\n",
        "\n",
        "# Males consume more cigrattes than females per day."
      ],
      "execution_count": 25,
      "outputs": [
        {
          "output_type": "display_data",
          "data": {
            "image/png": "[encoded data removed]",
            "text/plain": [
              "<Figure size 864x504 with 1 Axes>"
            ]
          },
          "metadata": {
            "needs_background": "light"
          }
        }
      ]
    },
    {
      "cell_type": "code",
      "metadata": {
        "colab": {
          "base_uri": "https://localhost:8080/",
          "height": 0
        },
        "id": "sNxC44UVP-Lu",
        "outputId": "90402ae5-f0f1-43e1-df86-0c6d727b97ab"
      },
      "source": [
        "plt.figure(figsize=(12,7))\n",
        "sns.barplot(x='sex', y = 'education', data= df)\n",
        "plt.title('Female vs Male - Education Comaparision')\n",
        "plt.show()\n",
        "\n",
        "#Both males and females those who smoke are well educated."
      ],
      "execution_count": 26,
      "outputs": [
        {
          "output_type": "display_data",
          "data": {
            "image/png": "[encoded data removed]",
            "text/plain": [
              "<Figure size 864x504 with 1 Axes>"
            ]
          },
          "metadata": {
            "needs_background": "light"
          }
        }
      ]
    },
    {
      "cell_type": "code",
      "metadata": {
        "colab": {
          "base_uri": "https://localhost:8080/",
          "height": 0
        },
        "id": "ad2EBpmeVgY8",
        "outputId": "20e27edd-840e-4f76-f95b-94d873e91695"
      },
      "source": [
        "plt.figure(figsize=(8,7))\n",
        "sns.countplot(x='TenYearCHD', hue = 'education', data= df)\n",
        "plt.title('Education Statistics vs Ten Year CHD')\n",
        "plt.show()\n",
        "\n",
        "# People with less education are more prone to have heart disease after 10 years."
      ],
      "execution_count": 27,
      "outputs": [
        {
          "output_type": "display_data",
          "data": {
            "image/png": "[encoded data removed]",
            "text/plain": [
              "<Figure size 576x504 with 1 Axes>"
            ]
          },
          "metadata": {
            "needs_background": "light"
          }
        }
      ]
    },
    {
      "cell_type": "code",
      "metadata": {
        "colab": {
          "base_uri": "https://localhost:8080/",
          "height": 0
        },
        "id": "gWQ0obyEWWaM",
        "outputId": "072f1e18-ace1-4315-ef8b-52454914a9ae"
      },
      "source": [
        "plt.figure(figsize=(8,7))\n",
        "sns.countplot(x='is_smoking', hue = 'education', data= df)\n",
        "plt.title('Education Statistics vs Smoking')\n",
        "plt.show()\n",
        "\n",
        "# People with less education are more prone to get addicted to smoking."
      ],
      "execution_count": 28,
      "outputs": [
        {
          "output_type": "display_data",
          "data": {
            "image/png": "[encoded data removed]",
            "text/plain": [
              "<Figure size 576x504 with 1 Axes>"
            ]
          },
          "metadata": {
            "needs_background": "light"
          }
        }
      ]
    },
    {
      "cell_type": "code",
      "metadata": {
        "colab": {
          "base_uri": "https://localhost:8080/",
          "height": 0
        },
        "id": "y9e4zDxjRr_-",
        "outputId": "b41f8c59-8a57-4949-a1e9-65fca40352cf"
      },
      "source": [
        "plt.figure(figsize=(12,7))\n",
        "sns.barplot(x='sex', y = 'diabetes', data= df)\n",
        "plt.title('Female vs Male - Suffering from diabetes')\n",
        "plt.show()\n",
        "\n",
        "# More males are suffering from diabetes than female."
      ],
      "execution_count": 29,
      "outputs": [
        {
          "output_type": "display_data",
          "data": {
            "image/png": "[encoded data removed]",
            "text/plain": [
              "<Figure size 864x504 with 1 Axes>"
            ]
          },
          "metadata": {
            "needs_background": "light"
          }
        }
      ]
    },
    {
      "cell_type": "code",
      "metadata": {
        "colab": {
          "base_uri": "https://localhost:8080/",
          "height": 0
        },
        "id": "_HVLQWynR7YQ",
        "outputId": "1081b8af-c82d-453f-867c-1ea9c7c26961"
      },
      "source": [
        "plt.figure(figsize=(12,7))\n",
        "sns.barplot(x='sex', y = 'TenYearCHD', data= df)\n",
        "plt.title('Female vs Male - CHD after 10 years')\n",
        "plt.show()"
      ],
      "execution_count": 30,
      "outputs": [
        {
          "output_type": "display_data",
          "data": {
            "image/png": "[encoded data removed]",
            "text/plain": [
              "<Figure size 864x504 with 1 Axes>"
            ]
          },
          "metadata": {
            "needs_background": "light"
          }
        }
      ]
    },
    {
      "cell_type": "code",
      "metadata": {
        "colab": {
          "base_uri": "https://localhost:8080/",
          "height": 0
        },
        "id": "oy4DYGmgSOAn",
        "outputId": "3eb2d66b-29fd-4103-bf0e-f75242ca73d9"
      },
      "source": [
        "plt.figure(figsize=(12,7))\n",
        "sns.barplot(x='diabetes', y = 'cigsPerDay', data= df)\n",
        "plt.title('Diabetic vs Non-diabatic - cigratte Count per day')\n",
        "plt.show()\n",
        "\n",
        "#Non diabetic people smoke more as compared to diabetic people."
      ],
      "execution_count": 31,
      "outputs": [
        {
          "output_type": "display_data",
          "data": {
            "image/png": "[encoded data removed]",
            "text/plain": [
              "<Figure size 864x504 with 1 Axes>"
            ]
          },
          "metadata": {
            "needs_background": "light"
          }
        }
      ]
    },
    {
      "cell_type": "code",
      "metadata": {
        "colab": {
          "base_uri": "https://localhost:8080/",
          "height": 0
        },
        "id": "cQnA2NEcSYUt",
        "outputId": "1c2fdd73-5c65-44aa-cef9-d961807c919a"
      },
      "source": [
        "plt.figure(figsize=(12,7))\n",
        "sns.barplot(x='diabetes', y = 'TenYearCHD', data= df)\n",
        "plt.title('Diabetic vs Non-diabatic - CHD after 10 years')\n",
        "plt.show()\n",
        "\n",
        "# Diabetic people are more prone to heart disease."
      ],
      "execution_count": 32,
      "outputs": [
        {
          "output_type": "display_data",
          "data": {
            "image/png": "[encoded data removed]",
            "text/plain": [
              "<Figure size 864x504 with 1 Axes>"
            ]
          },
          "metadata": {
            "needs_background": "light"
          }
        }
      ]
    },
    {
      "cell_type": "code",
      "metadata": {
        "colab": {
          "base_uri": "https://localhost:8080/",
          "height": 0
        },
        "id": "vBpaRI8pieiq",
        "outputId": "996bdf71-c339-46ae-d164-409379a48c12"
      },
      "source": [
        "sns.barplot(x = df['TenYearCHD'], y = df['diaBP'])\n",
        "\n",
        "# Those who have low BP are less prone to heart disease."
      ],
      "execution_count": 33,
      "outputs": [
        {
          "output_type": "execute_result",
          "data": {
            "text/plain": [
              "<matplotlib.axes._subplots.AxesSubplot at 0x7fb78f00e350>"
            ]
          },
          "metadata": {},
          "execution_count": 33
        },
        {
          "output_type": "display_data",
          "data": {
            "image/png": "[encoded data removed]",
            "text/plain": [
              "<Figure size 432x288 with 1 Axes>"
            ]
          },
          "metadata": {
            "needs_background": "light"
          }
        }
      ]
    },
    {
      "cell_type": "code",
      "metadata": {
        "colab": {
          "base_uri": "https://localhost:8080/",
          "height": 0
        },
        "id": "J-QOJqrdi0jl",
        "outputId": "da3c25e9-abcd-42e3-89b1-bd5152ebdd41"
      },
      "source": [
        "sns.barplot(x = df['TenYearCHD'], y = df['sysBP'])\n",
        "\n",
        "\n",
        "# Those who have high BP are more prone to heart disease."
      ],
      "execution_count": 34,
      "outputs": [
        {
          "output_type": "execute_result",
          "data": {
            "text/plain": [
              "<matplotlib.axes._subplots.AxesSubplot at 0x7fb78f136510>"
            ]
          },
          "metadata": {},
          "execution_count": 34
        },
        {
          "output_type": "display_data",
          "data": {
            "image/png": "[encoded data removed]",
            "text/plain": [
              "<Figure size 432x288 with 1 Axes>"
            ]
          },
          "metadata": {
            "needs_background": "light"
          }
        }
      ]
    },
    {
      "cell_type": "code",
      "metadata": {
        "colab": {
          "base_uri": "https://localhost:8080/",
          "height": 0
        },
        "id": "5_Xqz4SZ3aL-",
        "outputId": "2fb14f4b-1e50-43d6-a1e2-6db20942f56a"
      },
      "source": [
        "plt.figure(figsize=(8,7))\n",
        "sns.countplot(x='TenYearCHD', hue = 'BPMeds', data= df)\n",
        "plt.title('Heart Disease vs BP-meds Intake')\n",
        "plt.show()"
      ],
      "execution_count": 35,
      "outputs": [
        {
          "output_type": "display_data",
          "data": {
            "image/png": "[encoded data removed]",
            "text/plain": [
              "<Figure size 576x504 with 1 Axes>"
            ]
          },
          "metadata": {
            "needs_background": "light"
          }
        }
      ]
    },
    {
      "cell_type": "code",
      "metadata": {
        "colab": {
          "base_uri": "https://localhost:8080/",
          "height": 0
        },
        "id": "eDKU5FEfShRl",
        "outputId": "f5413132-51c4-423e-9bcf-a0933f138b24"
      },
      "source": [
        "a = pd.DataFrame(df.loc[df['TenYearCHD'] == 1,'heartRate'])\n",
        "plt.title('Heart Rate Density Distribution of People with Heart Disease')\n",
        "sns.distplot(a['heartRate'], kde=True);\n",
        "plt.axvline(np.median(a['heartRate']),color='b', linestyle='--')\n",
        "plt.axvline(np.mean(a['heartRate']),color='r', linestyle='--')"
      ],
      "execution_count": 36,
      "outputs": [
        {
          "output_type": "execute_result",
          "data": {
            "text/plain": [
              "<matplotlib.lines.Line2D at 0x7fb78f041990>"
            ]
          },
          "metadata": {},
          "execution_count": 36
        },
        {
          "output_type": "display_data",
          "data": {
            "image/png": "[encoded data removed]",
            "text/plain": [
              "<Figure size 432x288 with 1 Axes>"
            ]
          },
          "metadata": {
            "needs_background": "light"
          }
        }
      ]
    },
    {
      "cell_type": "code",
      "metadata": {
        "colab": {
          "base_uri": "https://localhost:8080/",
          "height": 0
        },
        "id": "TlBzXRArSriF",
        "outputId": "d37edea6-5d90-4fd7-fbf2-2065da902df0"
      },
      "source": [
        "a = pd.DataFrame(df.loc[df['TenYearCHD'] == 1,'glucose'])\n",
        "plt.title('Glucose Density Distribution of People with Heart Disease')\n",
        "sns.distplot(a['glucose'], kde=True);\n",
        "plt.axvline(np.median(a['glucose']),color='b', linestyle='--')\n",
        "plt.axvline(np.mean(a['glucose']),color='r', linestyle='--')"
      ],
      "execution_count": 37,
      "outputs": [
        {
          "output_type": "execute_result",
          "data": {
            "text/plain": [
              "<matplotlib.lines.Line2D at 0x7fb78cf9c990>"
            ]
          },
          "metadata": {},
          "execution_count": 37
        },
        {
          "output_type": "display_data",
          "data": {
            "image/png": "[encoded data removed]",
            "text/plain": [
              "<Figure size 432x288 with 1 Axes>"
            ]
          },
          "metadata": {
            "needs_background": "light"
          }
        }
      ]
    },
    {
      "cell_type": "code",
      "metadata": {
        "colab": {
          "base_uri": "https://localhost:8080/",
          "height": 0
        },
        "id": "Z7fGNnPxn2Md",
        "outputId": "c4c9d173-3680-4f3f-bfb0-a0d3ffb9ea11"
      },
      "source": [
        "a = pd.DataFrame(df.loc[df['TenYearCHD'] == 1,'BMI'])\n",
        "plt.title('BMI Density Distribution of People with Heart Disease')\n",
        "sns.distplot(a['BMI'], kde=True);\n",
        "plt.axvline(np.median(a['BMI']),color='b', linestyle='--')\n",
        "plt.axvline(np.mean(a['BMI']),color='r', linestyle='--')"
      ],
      "execution_count": 38,
      "outputs": [
        {
          "output_type": "execute_result",
          "data": {
            "text/plain": [
              "<matplotlib.lines.Line2D at 0x7fb78cee6c50>"
            ]
          },
          "metadata": {},
          "execution_count": 38
        },
        {
          "output_type": "display_data",
          "data": {
            "image/png": "[encoded data removed]",
            "text/plain": [
              "<Figure size 432x288 with 1 Axes>"
            ]
          },
          "metadata": {
            "needs_background": "light"
          }
        }
      ]
    },
    {
      "cell_type": "code",
      "metadata": {
        "colab": {
          "base_uri": "https://localhost:8080/",
          "height": 0
        },
        "id": "L06ymQFTS32C",
        "outputId": "24102dea-c86e-4aeb-e9d2-08199ff34d5d"
      },
      "source": [
        "a = pd.DataFrame(df.loc[df['TenYearCHD'] == 1,'totChol'])\n",
        "plt.title('totChol Density Distribution of People with Heart Disease')\n",
        "sns.distplot(a['totChol'], kde=True);\n",
        "plt.axvline(np.median(a['totChol']),color='b', linestyle='--')\n",
        "plt.axvline(np.mean(a['totChol']),color='r', linestyle='--')"
      ],
      "execution_count": 39,
      "outputs": [
        {
          "output_type": "execute_result",
          "data": {
            "text/plain": [
              "<matplotlib.lines.Line2D at 0x7fb78ce55050>"
            ]
          },
          "metadata": {},
          "execution_count": 39
        },
        {
          "output_type": "display_data",
          "data": {
            "image/png": "[encoded data removed]",
            "text/plain": [
              "<Figure size 432x288 with 1 Axes>"
            ]
          },
          "metadata": {
            "needs_background": "light"
          }
        }
      ]
    },
    {
      "cell_type": "code",
      "metadata": {
        "colab": {
          "base_uri": "https://localhost:8080/",
          "height": 0
        },
        "id": "XI5eKP4SS7l0",
        "outputId": "d8f8b322-f1d9-4941-c275-7e1c050944bd"
      },
      "source": [
        "a = pd.DataFrame(df.loc[df['TenYearCHD'] == 1,'age'])\n",
        "plt.title('Age Density Distribution of People with Heart Disease')\n",
        "sns.distplot(a['age'], kde=True);\n",
        "plt.axvline(np.median(a['age']),color='b', linestyle='--')\n",
        "plt.axvline(np.mean(a['age']),color='r', linestyle='--')"
      ],
      "execution_count": 40,
      "outputs": [
        {
          "output_type": "execute_result",
          "data": {
            "text/plain": [
              "<matplotlib.lines.Line2D at 0x7fb78cd94290>"
            ]
          },
          "metadata": {},
          "execution_count": 40
        },
        {
          "output_type": "display_data",
          "data": {
            "image/png": "[encoded data removed]",
            "text/plain": [
              "<Figure size 432x288 with 1 Axes>"
            ]
          },
          "metadata": {
            "needs_background": "light"
          }
        }
      ]
    },
    {
      "cell_type": "markdown",
      "metadata": {
        "id": "hvCCFg5Gg0xi"
      },
      "source": [
        "## Conclusions\n",
        "\n",
        "\n",
        "1.   Highest Number of cigratte smoked in a day is 50.\n",
        "2.   Males consume more cigrattes than females in a day.\n",
        "3.   People with less education are more prone to have heart disease after 10 years.\n",
        "4.   People with less education are more prone to get addicted to smoking.\n",
        "5.   More males are suffering from diabetes than female.\n",
        "6.   Those who have high BP are more prone to heart disease.\n",
        "7.   Those who have low BP are less prone to heart disease.\n",
        "8.   Non- diabetic people smokes more.\n",
        "\n"
      ]
    },
    {
      "cell_type": "markdown",
      "metadata": {
        "id": "zf6F-mzDXFWw"
      },
      "source": [
        "# Data Processing"
      ]
    },
    {
      "cell_type": "markdown",
      "metadata": {
        "id": "6ehdqqpzXIJt"
      },
      "source": [
        "## Standard Scalling"
      ]
    },
    {
      "cell_type": "code",
      "metadata": {
        "id": "YikDR5OAz2bc"
      },
      "source": [
        "df.drop('id',axis=1,inplace = True)"
      ],
      "execution_count": 41,
      "outputs": []
    },
    {
      "cell_type": "code",
      "metadata": {
        "id": "22S3C8DNXSbz"
      },
      "source": [
        "df = df.drop(['sex','is_smoking'],axis=1)\n",
        "y=df['TenYearCHD']\n",
        "X=df.drop('TenYearCHD',axis=1)"
      ],
      "execution_count": 42,
      "outputs": []
    },
    {
      "cell_type": "code",
      "metadata": {
        "id": "lCFHkbt9XEtr"
      },
      "source": [
        "sc = StandardScaler()\n",
        "X = sc.fit_transform(df[num_features])"
      ],
      "execution_count": 43,
      "outputs": []
    },
    {
      "cell_type": "code",
      "metadata": {
        "id": "n_W917i_zjtg"
      },
      "source": [
        "np.random.seed(0)\n",
        "df_train_feat, df_test_feat = train_test_split(df, train_size = 0.7, test_size = 0.3, random_state = 100)"
      ],
      "execution_count": 44,
      "outputs": []
    },
    {
      "cell_type": "markdown",
      "metadata": {
        "id": "b-J0Ba7_0ZRT"
      },
      "source": [
        "## Feature Selection"
      ]
    },
    {
      "cell_type": "code",
      "metadata": {
        "id": "7Mtr7-UW0A9e"
      },
      "source": [
        "# Importing RFE and LinearRegression\n",
        "from sklearn.feature_selection import RFE\n",
        "from sklearn.linear_model import LinearRegression"
      ],
      "execution_count": 45,
      "outputs": []
    },
    {
      "cell_type": "code",
      "metadata": {
        "colab": {
          "base_uri": "https://localhost:8080/",
          "height": 0
        },
        "id": "ZQKxJWJq1j_L",
        "outputId": "9c980998-9808-47b1-80ef-fd0e5474e512"
      },
      "source": [
        "df_test_feat.head()"
      ],
      "execution_count": 46,
      "outputs": [
        {
          "output_type": "execute_result",
          "data": {
            "text/html": [
              "<div>\n",
              "<style scoped>\n",
              "    .dataframe tbody tr th:only-of-type {\n",
              "        vertical-align: middle;\n",
              "    }\n",
              "\n",
              "    .dataframe tbody tr th {\n",
              "        vertical-align: top;\n",
              "    }\n",
              "\n",
              "    .dataframe thead th {\n",
              "        text-align: right;\n",
              "    }\n",
              "</style>\n",
              "<table border=\"1\" class=\"dataframe\">\n",
              "  <thead>\n",
              "    <tr style=\"text-align: right;\">\n",
              "      <th></th>\n",
              "      <th>age</th>\n",
              "      <th>education</th>\n",
              "      <th>cigsPerDay</th>\n",
              "      <th>BPMeds</th>\n",
              "      <th>prevalentStroke</th>\n",
              "      <th>prevalentHyp</th>\n",
              "      <th>diabetes</th>\n",
              "      <th>totChol</th>\n",
              "      <th>sysBP</th>\n",
              "      <th>diaBP</th>\n",
              "      <th>BMI</th>\n",
              "      <th>heartRate</th>\n",
              "      <th>glucose</th>\n",
              "      <th>TenYearCHD</th>\n",
              "      <th>sex_F</th>\n",
              "      <th>sex_M</th>\n",
              "      <th>is_smoking_NO</th>\n",
              "      <th>is_smoking_YES</th>\n",
              "    </tr>\n",
              "  </thead>\n",
              "  <tbody>\n",
              "    <tr>\n",
              "      <th>1866</th>\n",
              "      <td>54.0</td>\n",
              "      <td>1.0</td>\n",
              "      <td>17.0</td>\n",
              "      <td>0.0</td>\n",
              "      <td>0</td>\n",
              "      <td>0</td>\n",
              "      <td>0</td>\n",
              "      <td>205.0</td>\n",
              "      <td>96.0</td>\n",
              "      <td>66.0</td>\n",
              "      <td>23.26</td>\n",
              "      <td>85.0</td>\n",
              "      <td>75.0</td>\n",
              "      <td>0</td>\n",
              "      <td>1</td>\n",
              "      <td>0</td>\n",
              "      <td>0</td>\n",
              "      <td>1</td>\n",
              "    </tr>\n",
              "    <tr>\n",
              "      <th>646</th>\n",
              "      <td>38.0</td>\n",
              "      <td>3.0</td>\n",
              "      <td>0.0</td>\n",
              "      <td>0.0</td>\n",
              "      <td>0</td>\n",
              "      <td>0</td>\n",
              "      <td>0</td>\n",
              "      <td>305.0</td>\n",
              "      <td>130.0</td>\n",
              "      <td>95.0</td>\n",
              "      <td>23.10</td>\n",
              "      <td>65.0</td>\n",
              "      <td>78.0</td>\n",
              "      <td>1</td>\n",
              "      <td>0</td>\n",
              "      <td>1</td>\n",
              "      <td>1</td>\n",
              "      <td>0</td>\n",
              "    </tr>\n",
              "    <tr>\n",
              "      <th>2261</th>\n",
              "      <td>60.0</td>\n",
              "      <td>3.0</td>\n",
              "      <td>0.0</td>\n",
              "      <td>0.0</td>\n",
              "      <td>0</td>\n",
              "      <td>0</td>\n",
              "      <td>0</td>\n",
              "      <td>325.0</td>\n",
              "      <td>123.0</td>\n",
              "      <td>79.0</td>\n",
              "      <td>25.82</td>\n",
              "      <td>63.0</td>\n",
              "      <td>85.0</td>\n",
              "      <td>0</td>\n",
              "      <td>1</td>\n",
              "      <td>0</td>\n",
              "      <td>1</td>\n",
              "      <td>0</td>\n",
              "    </tr>\n",
              "    <tr>\n",
              "      <th>1645</th>\n",
              "      <td>51.0</td>\n",
              "      <td>3.0</td>\n",
              "      <td>0.0</td>\n",
              "      <td>0.0</td>\n",
              "      <td>0</td>\n",
              "      <td>0</td>\n",
              "      <td>0</td>\n",
              "      <td>230.0</td>\n",
              "      <td>134.0</td>\n",
              "      <td>84.0</td>\n",
              "      <td>23.54</td>\n",
              "      <td>80.0</td>\n",
              "      <td>78.0</td>\n",
              "      <td>0</td>\n",
              "      <td>1</td>\n",
              "      <td>0</td>\n",
              "      <td>1</td>\n",
              "      <td>0</td>\n",
              "    </tr>\n",
              "    <tr>\n",
              "      <th>496</th>\n",
              "      <td>50.0</td>\n",
              "      <td>2.0</td>\n",
              "      <td>0.0</td>\n",
              "      <td>0.0</td>\n",
              "      <td>0</td>\n",
              "      <td>0</td>\n",
              "      <td>0</td>\n",
              "      <td>258.0</td>\n",
              "      <td>129.0</td>\n",
              "      <td>84.0</td>\n",
              "      <td>24.56</td>\n",
              "      <td>80.0</td>\n",
              "      <td>75.0</td>\n",
              "      <td>0</td>\n",
              "      <td>0</td>\n",
              "      <td>1</td>\n",
              "      <td>1</td>\n",
              "      <td>0</td>\n",
              "    </tr>\n",
              "  </tbody>\n",
              "</table>\n",
              "</div>"
            ],
            "text/plain": [
              "       age  education  cigsPerDay  ...  sex_M  is_smoking_NO  is_smoking_YES\n",
              "1866  54.0        1.0        17.0  ...      0              0               1\n",
              "646   38.0        3.0         0.0  ...      1              1               0\n",
              "2261  60.0        3.0         0.0  ...      0              1               0\n",
              "1645  51.0        3.0         0.0  ...      0              1               0\n",
              "496   50.0        2.0         0.0  ...      1              1               0\n",
              "\n",
              "[5 rows x 18 columns]"
            ]
          },
          "metadata": {},
          "execution_count": 46
        }
      ]
    },
    {
      "cell_type": "code",
      "metadata": {
        "id": "UA9ccDfa3AXX"
      },
      "source": [
        "y__train = df_train_feat.pop('TenYearCHD')\n",
        "X__train = df_train_feat"
      ],
      "execution_count": 47,
      "outputs": []
    },
    {
      "cell_type": "code",
      "metadata": {
        "id": "hc-1kl8_0gUR"
      },
      "source": [
        "# Running RFE with the output number of the variable equal to 10\n",
        "lm = LinearRegression()\n",
        "lm.fit(X__train, y__train)\n",
        "rfe = RFE(lm, 12)             \n",
        "rfe = rfe.fit(X__train, y__train)"
      ],
      "execution_count": 48,
      "outputs": []
    },
    {
      "cell_type": "code",
      "metadata": {
        "colab": {
          "base_uri": "https://localhost:8080/"
        },
        "id": "jUehQFdX1MYQ",
        "outputId": "a9e6646a-6060-41ec-ce77-abbb49c49dd0"
      },
      "source": [
        "list(zip(df_train_feat.columns,rfe.support_,rfe.ranking_))"
      ],
      "execution_count": 49,
      "outputs": [
        {
          "output_type": "execute_result",
          "data": {
            "text/plain": [
              "[('age', True, 1),\n",
              " ('education', True, 1),\n",
              " ('cigsPerDay', True, 1),\n",
              " ('BPMeds', True, 1),\n",
              " ('prevalentStroke', True, 1),\n",
              " ('prevalentHyp', True, 1),\n",
              " ('diabetes', True, 1),\n",
              " ('totChol', False, 5),\n",
              " ('sysBP', False, 2),\n",
              " ('diaBP', True, 1),\n",
              " ('BMI', False, 3),\n",
              " ('heartRate', False, 6),\n",
              " ('glucose', False, 4),\n",
              " ('sex_F', True, 1),\n",
              " ('sex_M', True, 1),\n",
              " ('is_smoking_NO', True, 1),\n",
              " ('is_smoking_YES', True, 1)]"
            ]
          },
          "metadata": {},
          "execution_count": 49
        }
      ]
    },
    {
      "cell_type": "code",
      "metadata": {
        "colab": {
          "base_uri": "https://localhost:8080/"
        },
        "id": "023_W8Yh4fGC",
        "outputId": "50ab21cf-7492-49c0-ee2a-55f9e29b335d"
      },
      "source": [
        "col = X__train.columns[rfe.support_]\n",
        "col"
      ],
      "execution_count": 50,
      "outputs": [
        {
          "output_type": "execute_result",
          "data": {
            "text/plain": [
              "Index(['age', 'education', 'cigsPerDay', 'BPMeds', 'prevalentStroke',\n",
              "       'prevalentHyp', 'diabetes', 'diaBP', 'sex_F', 'sex_M', 'is_smoking_NO',\n",
              "       'is_smoking_YES'],\n",
              "      dtype='object')"
            ]
          },
          "metadata": {},
          "execution_count": 50
        }
      ]
    },
    {
      "cell_type": "code",
      "metadata": {
        "colab": {
          "base_uri": "https://localhost:8080/"
        },
        "id": "N0cwv6ZI4moq",
        "outputId": "d76cb59b-af67-42b6-a046-3b58d76d2dfc"
      },
      "source": [
        "X__train.columns[~rfe.support_]"
      ],
      "execution_count": 51,
      "outputs": [
        {
          "output_type": "execute_result",
          "data": {
            "text/plain": [
              "Index(['totChol', 'sysBP', 'BMI', 'heartRate', 'glucose'], dtype='object')"
            ]
          },
          "metadata": {},
          "execution_count": 51
        }
      ]
    },
    {
      "cell_type": "code",
      "metadata": {
        "id": "qSCqmyh14pFX"
      },
      "source": [
        "# Creating X_test dataframe with RFE selected variables\n",
        "X_train_rfe = X__train[col]"
      ],
      "execution_count": 52,
      "outputs": []
    },
    {
      "cell_type": "code",
      "metadata": {
        "id": "UNP1307s6AVT"
      },
      "source": [
        "import statsmodels.api as sm  \n",
        "X_train_rfe = sm.add_constant(X_train_rfe)"
      ],
      "execution_count": 53,
      "outputs": []
    },
    {
      "cell_type": "code",
      "metadata": {
        "id": "2HhF_AHm6IF2"
      },
      "source": [
        "lm = sm.OLS(y__train,X_train_rfe).fit()"
      ],
      "execution_count": 54,
      "outputs": []
    },
    {
      "cell_type": "code",
      "metadata": {
        "colab": {
          "base_uri": "https://localhost:8080/"
        },
        "id": "jepgwcLg6O9D",
        "outputId": "e1d58d6f-89e3-420d-aa41-17b96cd69f32"
      },
      "source": [
        "print(lm.summary())"
      ],
      "execution_count": 55,
      "outputs": [
        {
          "output_type": "stream",
          "name": "stdout",
          "text": [
            "                            OLS Regression Results                            \n",
            "==============================================================================\n",
            "Dep. Variable:             TenYearCHD   R-squared:                       0.073\n",
            "Model:                            OLS   Adj. R-squared:                  0.069\n",
            "Method:                 Least Squares   F-statistic:                     18.57\n",
            "Date:                Tue, 12 Oct 2021   Prob (F-statistic):           3.59e-33\n",
            "Time:                        17:54:21   Log-Likelihood:                -785.60\n",
            "No. Observations:                2373   AIC:                             1593.\n",
            "Df Residuals:                    2362   BIC:                             1657.\n",
            "Df Model:                          10                                         \n",
            "Covariance Type:            nonrobust                                         \n",
            "===================================================================================\n",
            "                      coef    std err          t      P>|t|      [0.025      0.975]\n",
            "-----------------------------------------------------------------------------------\n",
            "const              -0.1072      0.040     -2.673      0.008      -0.186      -0.029\n",
            "age                 0.0077      0.001      8.380      0.000       0.006       0.010\n",
            "education          -0.0123      0.007     -1.771      0.077      -0.026       0.001\n",
            "cigsPerDay          0.0022      0.001      2.240      0.025       0.000       0.004\n",
            "BPMeds              0.0580      0.043      1.359      0.174      -0.026       0.142\n",
            "prevalentStroke     0.2540      0.089      2.869      0.004       0.080       0.428\n",
            "prevalentHyp        0.0835      0.019      4.506      0.000       0.047       0.120\n",
            "diabetes            0.1270      0.046      2.759      0.006       0.037       0.217\n",
            "diaBP              -0.0006      0.001     -0.722      0.471      -0.002       0.001\n",
            "sex_F              -0.0721      0.020     -3.548      0.000      -0.112      -0.032\n",
            "sex_M              -0.0351      0.022     -1.568      0.117      -0.079       0.009\n",
            "is_smoking_NO      -0.0633      0.022     -2.815      0.005      -0.107      -0.019\n",
            "is_smoking_YES     -0.0439      0.023     -1.932      0.054      -0.088       0.001\n",
            "==============================================================================\n",
            "Omnibus:                      738.501   Durbin-Watson:                   2.013\n",
            "Prob(Omnibus):                  0.000   Jarque-Bera (JB):             1660.095\n",
            "Skew:                           1.819   Prob(JB):                         0.00\n",
            "Kurtosis:                       4.884   Cond. No.                     3.22e+17\n",
            "==============================================================================\n",
            "\n",
            "Warnings:\n",
            "[1] Standard Errors assume that the covariance matrix of the errors is correctly specified.\n",
            "[2] The smallest eigenvalue is 2.12e-28. This might indicate that there are\n",
            "strong multicollinearity problems or that the design matrix is singular.\n"
          ]
        }
      ]
    },
    {
      "cell_type": "code",
      "metadata": {
        "id": "gS-9nhbA6Zk5"
      },
      "source": [
        "X_train_new = X_train_rfe.drop(['prevalentStroke'], axis=1)"
      ],
      "execution_count": 56,
      "outputs": []
    },
    {
      "cell_type": "code",
      "metadata": {
        "colab": {
          "base_uri": "https://localhost:8080/"
        },
        "id": "0l663biW8QpX",
        "outputId": "87f0a484-06aa-41e4-c364-90a4b404a2d6"
      },
      "source": [
        "X_train_lm = sm.add_constant(X_train_new)\n",
        "lm = sm.OLS(y__train,X_train_lm).fit()  \n",
        "print(lm.summary())"
      ],
      "execution_count": 57,
      "outputs": [
        {
          "output_type": "stream",
          "name": "stdout",
          "text": [
            "                            OLS Regression Results                            \n",
            "==============================================================================\n",
            "Dep. Variable:             TenYearCHD   R-squared:                       0.070\n",
            "Model:                            OLS   Adj. R-squared:                  0.066\n",
            "Method:                 Least Squares   F-statistic:                     19.66\n",
            "Date:                Tue, 12 Oct 2021   Prob (F-statistic):           3.98e-32\n",
            "Time:                        17:54:21   Log-Likelihood:                -789.73\n",
            "No. Observations:                2373   AIC:                             1599.\n",
            "Df Residuals:                    2363   BIC:                             1657.\n",
            "Df Model:                           9                                         \n",
            "Covariance Type:            nonrobust                                         \n",
            "==================================================================================\n",
            "                     coef    std err          t      P>|t|      [0.025      0.975]\n",
            "----------------------------------------------------------------------------------\n",
            "const             -0.1069      0.040     -2.661      0.008      -0.186      -0.028\n",
            "age                0.0077      0.001      8.373      0.000       0.006       0.010\n",
            "education         -0.0126      0.007     -1.805      0.071      -0.026       0.001\n",
            "cigsPerDay         0.0022      0.001      2.266      0.024       0.000       0.004\n",
            "BPMeds             0.0737      0.042      1.739      0.082      -0.009       0.157\n",
            "prevalentHyp       0.0848      0.019      4.570      0.000       0.048       0.121\n",
            "diabetes           0.1281      0.046      2.779      0.006       0.038       0.218\n",
            "diaBP             -0.0006      0.001     -0.719      0.472      -0.002       0.001\n",
            "sex_F             -0.0724      0.020     -3.556      0.000      -0.112      -0.032\n",
            "sex_M             -0.0345      0.022     -1.540      0.124      -0.078       0.009\n",
            "is_smoking_NO     -0.0621      0.023     -2.758      0.006      -0.106      -0.018\n",
            "is_smoking_YES    -0.0448      0.023     -1.968      0.049      -0.089      -0.000\n",
            "==============================================================================\n",
            "Omnibus:                      737.986   Durbin-Watson:                   2.014\n",
            "Prob(Omnibus):                  0.000   Jarque-Bera (JB):             1655.113\n",
            "Skew:                           1.822   Prob(JB):                         0.00\n",
            "Kurtosis:                       4.862   Cond. No.                     4.45e+17\n",
            "==============================================================================\n",
            "\n",
            "Warnings:\n",
            "[1] Standard Errors assume that the covariance matrix of the errors is correctly specified.\n",
            "[2] The smallest eigenvalue is 1.11e-28. This might indicate that there are\n",
            "strong multicollinearity problems or that the design matrix is singular.\n"
          ]
        }
      ]
    },
    {
      "cell_type": "code",
      "metadata": {
        "id": "Nzh4m1dT8bjA"
      },
      "source": [
        "X_train_new = X_train_new.drop(['const'], axis=1)"
      ],
      "execution_count": 58,
      "outputs": []
    },
    {
      "cell_type": "code",
      "metadata": {
        "colab": {
          "base_uri": "https://localhost:8080/",
          "height": 0
        },
        "id": "42rmX3gd8gPA",
        "outputId": "65793808-9c63-4337-d95b-a09abd44bdb3"
      },
      "source": [
        "from statsmodels.stats.outliers_influence import variance_inflation_factor\n",
        "vif = pd.DataFrame()\n",
        "X = X_train_new\n",
        "vif['Features'] = X.columns\n",
        "vif['VIF'] = [variance_inflation_factor(X.values, i) for i in range(X.shape[1])]\n",
        "vif['VIF'] = round(vif['VIF'], 2)\n",
        "vif = vif.sort_values(by = \"VIF\", ascending = False)\n",
        "vif"
      ],
      "execution_count": 59,
      "outputs": [
        {
          "output_type": "execute_result",
          "data": {
            "text/html": [
              "<div>\n",
              "<style scoped>\n",
              "    .dataframe tbody tr th:only-of-type {\n",
              "        vertical-align: middle;\n",
              "    }\n",
              "\n",
              "    .dataframe tbody tr th {\n",
              "        vertical-align: top;\n",
              "    }\n",
              "\n",
              "    .dataframe thead th {\n",
              "        text-align: right;\n",
              "    }\n",
              "</style>\n",
              "<table border=\"1\" class=\"dataframe\">\n",
              "  <thead>\n",
              "    <tr style=\"text-align: right;\">\n",
              "      <th></th>\n",
              "      <th>Features</th>\n",
              "      <th>VIF</th>\n",
              "    </tr>\n",
              "  </thead>\n",
              "  <tbody>\n",
              "    <tr>\n",
              "      <th>7</th>\n",
              "      <td>sex_F</td>\n",
              "      <td>inf</td>\n",
              "    </tr>\n",
              "    <tr>\n",
              "      <th>8</th>\n",
              "      <td>sex_M</td>\n",
              "      <td>inf</td>\n",
              "    </tr>\n",
              "    <tr>\n",
              "      <th>9</th>\n",
              "      <td>is_smoking_NO</td>\n",
              "      <td>inf</td>\n",
              "    </tr>\n",
              "    <tr>\n",
              "      <th>10</th>\n",
              "      <td>is_smoking_YES</td>\n",
              "      <td>inf</td>\n",
              "    </tr>\n",
              "    <tr>\n",
              "      <th>2</th>\n",
              "      <td>cigsPerDay</td>\n",
              "      <td>2.31</td>\n",
              "    </tr>\n",
              "    <tr>\n",
              "      <th>4</th>\n",
              "      <td>prevalentHyp</td>\n",
              "      <td>1.53</td>\n",
              "    </tr>\n",
              "    <tr>\n",
              "      <th>6</th>\n",
              "      <td>diaBP</td>\n",
              "      <td>1.43</td>\n",
              "    </tr>\n",
              "    <tr>\n",
              "      <th>0</th>\n",
              "      <td>age</td>\n",
              "      <td>1.14</td>\n",
              "    </tr>\n",
              "    <tr>\n",
              "      <th>3</th>\n",
              "      <td>BPMeds</td>\n",
              "      <td>1.08</td>\n",
              "    </tr>\n",
              "    <tr>\n",
              "      <th>1</th>\n",
              "      <td>education</td>\n",
              "      <td>1.03</td>\n",
              "    </tr>\n",
              "    <tr>\n",
              "      <th>5</th>\n",
              "      <td>diabetes</td>\n",
              "      <td>1.02</td>\n",
              "    </tr>\n",
              "  </tbody>\n",
              "</table>\n",
              "</div>"
            ],
            "text/plain": [
              "          Features   VIF\n",
              "7            sex_F   inf\n",
              "8            sex_M   inf\n",
              "9    is_smoking_NO   inf\n",
              "10  is_smoking_YES   inf\n",
              "2       cigsPerDay  2.31\n",
              "4     prevalentHyp  1.53\n",
              "6            diaBP  1.43\n",
              "0              age  1.14\n",
              "3           BPMeds  1.08\n",
              "1        education  1.03\n",
              "5         diabetes  1.02"
            ]
          },
          "metadata": {},
          "execution_count": 59
        }
      ]
    },
    {
      "cell_type": "code",
      "metadata": {
        "colab": {
          "base_uri": "https://localhost:8080/"
        },
        "id": "P6-QZg2C8pYk",
        "outputId": "87763a4d-2433-419b-b4bc-90528adecf67"
      },
      "source": [
        "X_train_new = X_train_new.drop([\"sex_F\"],axis = 1)\n",
        "X_train_lm = sm.add_constant(X_train_new)\n",
        "lm = sm.OLS(y__train,X_train_lm).fit()  \n",
        "print(lm.summary())"
      ],
      "execution_count": 60,
      "outputs": [
        {
          "output_type": "stream",
          "name": "stdout",
          "text": [
            "                            OLS Regression Results                            \n",
            "==============================================================================\n",
            "Dep. Variable:             TenYearCHD   R-squared:                       0.070\n",
            "Model:                            OLS   Adj. R-squared:                  0.066\n",
            "Method:                 Least Squares   F-statistic:                     19.66\n",
            "Date:                Tue, 12 Oct 2021   Prob (F-statistic):           3.98e-32\n",
            "Time:                        17:54:21   Log-Likelihood:                -789.73\n",
            "No. Observations:                2373   AIC:                             1599.\n",
            "Df Residuals:                    2363   BIC:                             1657.\n",
            "Df Model:                           9                                         \n",
            "Covariance Type:            nonrobust                                         \n",
            "==================================================================================\n",
            "                     coef    std err          t      P>|t|      [0.025      0.975]\n",
            "----------------------------------------------------------------------------------\n",
            "const             -0.1551      0.053     -2.924      0.003      -0.259      -0.051\n",
            "age                0.0077      0.001      8.373      0.000       0.006       0.010\n",
            "education         -0.0126      0.007     -1.805      0.071      -0.026       0.001\n",
            "cigsPerDay         0.0022      0.001      2.266      0.024       0.000       0.004\n",
            "BPMeds             0.0737      0.042      1.739      0.082      -0.009       0.157\n",
            "prevalentHyp       0.0848      0.019      4.570      0.000       0.048       0.121\n",
            "diabetes           0.1281      0.046      2.779      0.006       0.038       0.218\n",
            "diaBP             -0.0006      0.001     -0.719      0.472      -0.002       0.001\n",
            "sex_M              0.0378      0.015      2.552      0.011       0.009       0.067\n",
            "is_smoking_NO     -0.0862      0.028     -3.040      0.002      -0.142      -0.031\n",
            "is_smoking_YES    -0.0689      0.029     -2.405      0.016      -0.125      -0.013\n",
            "==============================================================================\n",
            "Omnibus:                      737.986   Durbin-Watson:                   2.014\n",
            "Prob(Omnibus):                  0.000   Jarque-Bera (JB):             1655.113\n",
            "Skew:                           1.822   Prob(JB):                         0.00\n",
            "Kurtosis:                       4.862   Cond. No.                     7.70e+16\n",
            "==============================================================================\n",
            "\n",
            "Warnings:\n",
            "[1] Standard Errors assume that the covariance matrix of the errors is correctly specified.\n",
            "[2] The smallest eigenvalue is 3.7e-27. This might indicate that there are\n",
            "strong multicollinearity problems or that the design matrix is singular.\n"
          ]
        }
      ]
    },
    {
      "cell_type": "code",
      "metadata": {
        "colab": {
          "base_uri": "https://localhost:8080/",
          "height": 0
        },
        "id": "PAB1w7ZN80Qa",
        "outputId": "6e18e037-0eb7-432b-a194-8562b445f7cc"
      },
      "source": [
        "vif = pd.DataFrame()\n",
        "X = X_train_new\n",
        "vif['Features'] = X.columns\n",
        "vif['VIF'] = [variance_inflation_factor(X.values, i) for i in range(X.shape[1])]\n",
        "vif['VIF'] = round(vif['VIF'], 2)\n",
        "vif = vif.sort_values(by = \"VIF\", ascending = False)\n",
        "vif"
      ],
      "execution_count": 61,
      "outputs": [
        {
          "output_type": "execute_result",
          "data": {
            "text/html": [
              "<div>\n",
              "<style scoped>\n",
              "    .dataframe tbody tr th:only-of-type {\n",
              "        vertical-align: middle;\n",
              "    }\n",
              "\n",
              "    .dataframe tbody tr th {\n",
              "        vertical-align: top;\n",
              "    }\n",
              "\n",
              "    .dataframe thead th {\n",
              "        text-align: right;\n",
              "    }\n",
              "</style>\n",
              "<table border=\"1\" class=\"dataframe\">\n",
              "  <thead>\n",
              "    <tr style=\"text-align: right;\">\n",
              "      <th></th>\n",
              "      <th>Features</th>\n",
              "      <th>VIF</th>\n",
              "    </tr>\n",
              "  </thead>\n",
              "  <tbody>\n",
              "    <tr>\n",
              "      <th>9</th>\n",
              "      <td>is_smoking_YES</td>\n",
              "      <td>67.12</td>\n",
              "    </tr>\n",
              "    <tr>\n",
              "      <th>8</th>\n",
              "      <td>is_smoking_NO</td>\n",
              "      <td>66.46</td>\n",
              "    </tr>\n",
              "    <tr>\n",
              "      <th>2</th>\n",
              "      <td>cigsPerDay</td>\n",
              "      <td>2.31</td>\n",
              "    </tr>\n",
              "    <tr>\n",
              "      <th>4</th>\n",
              "      <td>prevalentHyp</td>\n",
              "      <td>1.53</td>\n",
              "    </tr>\n",
              "    <tr>\n",
              "      <th>6</th>\n",
              "      <td>diaBP</td>\n",
              "      <td>1.43</td>\n",
              "    </tr>\n",
              "    <tr>\n",
              "      <th>0</th>\n",
              "      <td>age</td>\n",
              "      <td>1.14</td>\n",
              "    </tr>\n",
              "    <tr>\n",
              "      <th>7</th>\n",
              "      <td>sex_M</td>\n",
              "      <td>1.12</td>\n",
              "    </tr>\n",
              "    <tr>\n",
              "      <th>3</th>\n",
              "      <td>BPMeds</td>\n",
              "      <td>1.08</td>\n",
              "    </tr>\n",
              "    <tr>\n",
              "      <th>1</th>\n",
              "      <td>education</td>\n",
              "      <td>1.03</td>\n",
              "    </tr>\n",
              "    <tr>\n",
              "      <th>5</th>\n",
              "      <td>diabetes</td>\n",
              "      <td>1.02</td>\n",
              "    </tr>\n",
              "  </tbody>\n",
              "</table>\n",
              "</div>"
            ],
            "text/plain": [
              "         Features    VIF\n",
              "9  is_smoking_YES  67.12\n",
              "8   is_smoking_NO  66.46\n",
              "2      cigsPerDay   2.31\n",
              "4    prevalentHyp   1.53\n",
              "6           diaBP   1.43\n",
              "0             age   1.14\n",
              "7           sex_M   1.12\n",
              "3          BPMeds   1.08\n",
              "1       education   1.03\n",
              "5        diabetes   1.02"
            ]
          },
          "metadata": {},
          "execution_count": 61
        }
      ]
    },
    {
      "cell_type": "code",
      "metadata": {
        "id": "6vLeAq8C87cq"
      },
      "source": [
        "X_train_new = X_train_new.drop(['is_smoking_YES'], axis=1)"
      ],
      "execution_count": 62,
      "outputs": []
    },
    {
      "cell_type": "code",
      "metadata": {
        "colab": {
          "base_uri": "https://localhost:8080/"
        },
        "id": "afB-DI-R9BOf",
        "outputId": "6631f9d6-a914-4a56-c7c7-36414077bf69"
      },
      "source": [
        "X_train_lm = sm.add_constant(X_train_new)\n",
        "lm = sm.OLS(y__train,X_train_lm).fit()  \n",
        "print(lm.summary())"
      ],
      "execution_count": 63,
      "outputs": [
        {
          "output_type": "stream",
          "name": "stdout",
          "text": [
            "                            OLS Regression Results                            \n",
            "==============================================================================\n",
            "Dep. Variable:             TenYearCHD   R-squared:                       0.070\n",
            "Model:                            OLS   Adj. R-squared:                  0.066\n",
            "Method:                 Least Squares   F-statistic:                     19.66\n",
            "Date:                Tue, 12 Oct 2021   Prob (F-statistic):           3.98e-32\n",
            "Time:                        17:54:22   Log-Likelihood:                -789.73\n",
            "No. Observations:                2373   AIC:                             1599.\n",
            "Df Residuals:                    2363   BIC:                             1657.\n",
            "Df Model:                           9                                         \n",
            "Covariance Type:            nonrobust                                         \n",
            "=================================================================================\n",
            "                    coef    std err          t      P>|t|      [0.025      0.975]\n",
            "---------------------------------------------------------------------------------\n",
            "const            -0.2240      0.080     -2.786      0.005      -0.382      -0.066\n",
            "age               0.0077      0.001      8.373      0.000       0.006       0.010\n",
            "education        -0.0126      0.007     -1.805      0.071      -0.026       0.001\n",
            "cigsPerDay        0.0022      0.001      2.266      0.024       0.000       0.004\n",
            "BPMeds            0.0737      0.042      1.739      0.082      -0.009       0.157\n",
            "prevalentHyp      0.0848      0.019      4.570      0.000       0.048       0.121\n",
            "diabetes          0.1281      0.046      2.779      0.006       0.038       0.218\n",
            "diaBP            -0.0006      0.001     -0.719      0.472      -0.002       0.001\n",
            "sex_M             0.0378      0.015      2.552      0.011       0.009       0.067\n",
            "is_smoking_NO    -0.0173      0.021     -0.831      0.406      -0.058       0.024\n",
            "==============================================================================\n",
            "Omnibus:                      737.986   Durbin-Watson:                   2.014\n",
            "Prob(Omnibus):                  0.000   Jarque-Bera (JB):             1655.113\n",
            "Skew:                           1.822   Prob(JB):                         0.00\n",
            "Kurtosis:                       4.862   Cond. No.                     1.12e+03\n",
            "==============================================================================\n",
            "\n",
            "Warnings:\n",
            "[1] Standard Errors assume that the covariance matrix of the errors is correctly specified.\n",
            "[2] The condition number is large, 1.12e+03. This might indicate that there are\n",
            "strong multicollinearity or other numerical problems.\n"
          ]
        }
      ]
    },
    {
      "cell_type": "code",
      "metadata": {
        "colab": {
          "base_uri": "https://localhost:8080/",
          "height": 0
        },
        "id": "CTK72syM9Lu4",
        "outputId": "37afdb1f-4866-43f1-b81c-0987399e4941"
      },
      "source": [
        "vif = pd.DataFrame()\n",
        "X = X_train_new\n",
        "vif['Features'] = X.columns\n",
        "vif['VIF'] = [variance_inflation_factor(X.values, i) for i in range(X.shape[1])]\n",
        "vif['VIF'] = round(vif['VIF'], 2)\n",
        "vif = vif.sort_values(by = \"VIF\", ascending = False)\n",
        "vif"
      ],
      "execution_count": 64,
      "outputs": [
        {
          "output_type": "execute_result",
          "data": {
            "text/html": [
              "<div>\n",
              "<style scoped>\n",
              "    .dataframe tbody tr th:only-of-type {\n",
              "        vertical-align: middle;\n",
              "    }\n",
              "\n",
              "    .dataframe tbody tr th {\n",
              "        vertical-align: top;\n",
              "    }\n",
              "\n",
              "    .dataframe thead th {\n",
              "        text-align: right;\n",
              "    }\n",
              "</style>\n",
              "<table border=\"1\" class=\"dataframe\">\n",
              "  <thead>\n",
              "    <tr style=\"text-align: right;\">\n",
              "      <th></th>\n",
              "      <th>Features</th>\n",
              "      <th>VIF</th>\n",
              "    </tr>\n",
              "  </thead>\n",
              "  <tbody>\n",
              "    <tr>\n",
              "      <th>6</th>\n",
              "      <td>diaBP</td>\n",
              "      <td>41.00</td>\n",
              "    </tr>\n",
              "    <tr>\n",
              "      <th>0</th>\n",
              "      <td>age</td>\n",
              "      <td>32.69</td>\n",
              "    </tr>\n",
              "    <tr>\n",
              "      <th>1</th>\n",
              "      <td>education</td>\n",
              "      <td>4.44</td>\n",
              "    </tr>\n",
              "    <tr>\n",
              "      <th>8</th>\n",
              "      <td>is_smoking_NO</td>\n",
              "      <td>4.42</td>\n",
              "    </tr>\n",
              "    <tr>\n",
              "      <th>2</th>\n",
              "      <td>cigsPerDay</td>\n",
              "      <td>3.72</td>\n",
              "    </tr>\n",
              "    <tr>\n",
              "      <th>7</th>\n",
              "      <td>sex_M</td>\n",
              "      <td>1.97</td>\n",
              "    </tr>\n",
              "    <tr>\n",
              "      <th>4</th>\n",
              "      <td>prevalentHyp</td>\n",
              "      <td>1.77</td>\n",
              "    </tr>\n",
              "    <tr>\n",
              "      <th>3</th>\n",
              "      <td>BPMeds</td>\n",
              "      <td>1.12</td>\n",
              "    </tr>\n",
              "    <tr>\n",
              "      <th>5</th>\n",
              "      <td>diabetes</td>\n",
              "      <td>1.04</td>\n",
              "    </tr>\n",
              "  </tbody>\n",
              "</table>\n",
              "</div>"
            ],
            "text/plain": [
              "        Features    VIF\n",
              "6          diaBP  41.00\n",
              "0            age  32.69\n",
              "1      education   4.44\n",
              "8  is_smoking_NO   4.42\n",
              "2     cigsPerDay   3.72\n",
              "7          sex_M   1.97\n",
              "4   prevalentHyp   1.77\n",
              "3         BPMeds   1.12\n",
              "5       diabetes   1.04"
            ]
          },
          "metadata": {},
          "execution_count": 64
        }
      ]
    },
    {
      "cell_type": "code",
      "metadata": {
        "id": "F2G7YRSqB_zx"
      },
      "source": [
        "X_train_new = X_train_new.drop(['diaBP'], axis=1)"
      ],
      "execution_count": 65,
      "outputs": []
    },
    {
      "cell_type": "code",
      "metadata": {
        "colab": {
          "base_uri": "https://localhost:8080/"
        },
        "id": "SLoyiKIe9TYW",
        "outputId": "15e51491-c18f-4fd3-fbe3-a1cab2357a7b"
      },
      "source": [
        "X_train_lm = sm.add_constant(X_train_new)\n",
        "lm = sm.OLS(y__train,X_train_lm).fit()  \n",
        "print(lm.summary())"
      ],
      "execution_count": 66,
      "outputs": [
        {
          "output_type": "stream",
          "name": "stdout",
          "text": [
            "                            OLS Regression Results                            \n",
            "==============================================================================\n",
            "Dep. Variable:             TenYearCHD   R-squared:                       0.069\n",
            "Model:                            OLS   Adj. R-squared:                  0.066\n",
            "Method:                 Least Squares   F-statistic:                     22.06\n",
            "Date:                Tue, 12 Oct 2021   Prob (F-statistic):           1.05e-32\n",
            "Time:                        17:54:22   Log-Likelihood:                -789.99\n",
            "No. Observations:                2373   AIC:                             1598.\n",
            "Df Residuals:                    2364   BIC:                             1650.\n",
            "Df Model:                           8                                         \n",
            "Covariance Type:            nonrobust                                         \n",
            "=================================================================================\n",
            "                    coef    std err          t      P>|t|      [0.025      0.975]\n",
            "---------------------------------------------------------------------------------\n",
            "const            -0.2681      0.052     -5.165      0.000      -0.370      -0.166\n",
            "age               0.0077      0.001      8.344      0.000       0.006       0.010\n",
            "education        -0.0125      0.007     -1.788      0.074      -0.026       0.001\n",
            "cigsPerDay        0.0022      0.001      2.274      0.023       0.000       0.004\n",
            "BPMeds            0.0739      0.042      1.743      0.081      -0.009       0.157\n",
            "prevalentHyp      0.0782      0.016      4.846      0.000       0.047       0.110\n",
            "diabetes          0.1294      0.046      2.810      0.005       0.039       0.220\n",
            "sex_M             0.0367      0.015      2.490      0.013       0.008       0.066\n",
            "is_smoking_NO    -0.0179      0.021     -0.859      0.390      -0.059       0.023\n",
            "==============================================================================\n",
            "Omnibus:                      737.562   Durbin-Watson:                   2.013\n",
            "Prob(Omnibus):                  0.000   Jarque-Bera (JB):             1653.030\n",
            "Skew:                           1.821   Prob(JB):                         0.00\n",
            "Kurtosis:                       4.858   Cond. No.                         383.\n",
            "==============================================================================\n",
            "\n",
            "Warnings:\n",
            "[1] Standard Errors assume that the covariance matrix of the errors is correctly specified.\n"
          ]
        }
      ]
    },
    {
      "cell_type": "code",
      "metadata": {
        "colab": {
          "base_uri": "https://localhost:8080/",
          "height": 0
        },
        "id": "NreoRd65CJBD",
        "outputId": "5b2ab49c-0a2e-4208-a152-0e750d6b1ab5"
      },
      "source": [
        "vif = pd.DataFrame()\n",
        "X = X_train_new\n",
        "vif['Features'] = X.columns\n",
        "vif['VIF'] = [variance_inflation_factor(X.values, i) for i in range(X.shape[1])]\n",
        "vif['VIF'] = round(vif['VIF'], 2)\n",
        "vif = vif.sort_values(by = \"VIF\", ascending = False)\n",
        "vif"
      ],
      "execution_count": 67,
      "outputs": [
        {
          "output_type": "execute_result",
          "data": {
            "text/html": [
              "<div>\n",
              "<style scoped>\n",
              "    .dataframe tbody tr th:only-of-type {\n",
              "        vertical-align: middle;\n",
              "    }\n",
              "\n",
              "    .dataframe tbody tr th {\n",
              "        vertical-align: top;\n",
              "    }\n",
              "\n",
              "    .dataframe thead th {\n",
              "        text-align: right;\n",
              "    }\n",
              "</style>\n",
              "<table border=\"1\" class=\"dataframe\">\n",
              "  <thead>\n",
              "    <tr style=\"text-align: right;\">\n",
              "      <th></th>\n",
              "      <th>Features</th>\n",
              "      <th>VIF</th>\n",
              "    </tr>\n",
              "  </thead>\n",
              "  <tbody>\n",
              "    <tr>\n",
              "      <th>0</th>\n",
              "      <td>age</td>\n",
              "      <td>9.87</td>\n",
              "    </tr>\n",
              "    <tr>\n",
              "      <th>7</th>\n",
              "      <td>is_smoking_NO</td>\n",
              "      <td>4.18</td>\n",
              "    </tr>\n",
              "    <tr>\n",
              "      <th>1</th>\n",
              "      <td>education</td>\n",
              "      <td>4.04</td>\n",
              "    </tr>\n",
              "    <tr>\n",
              "      <th>2</th>\n",
              "      <td>cigsPerDay</td>\n",
              "      <td>3.43</td>\n",
              "    </tr>\n",
              "    <tr>\n",
              "      <th>6</th>\n",
              "      <td>sex_M</td>\n",
              "      <td>1.95</td>\n",
              "    </tr>\n",
              "    <tr>\n",
              "      <th>4</th>\n",
              "      <td>prevalentHyp</td>\n",
              "      <td>1.66</td>\n",
              "    </tr>\n",
              "    <tr>\n",
              "      <th>3</th>\n",
              "      <td>BPMeds</td>\n",
              "      <td>1.12</td>\n",
              "    </tr>\n",
              "    <tr>\n",
              "      <th>5</th>\n",
              "      <td>diabetes</td>\n",
              "      <td>1.04</td>\n",
              "    </tr>\n",
              "  </tbody>\n",
              "</table>\n",
              "</div>"
            ],
            "text/plain": [
              "        Features   VIF\n",
              "0            age  9.87\n",
              "7  is_smoking_NO  4.18\n",
              "1      education  4.04\n",
              "2     cigsPerDay  3.43\n",
              "6          sex_M  1.95\n",
              "4   prevalentHyp  1.66\n",
              "3         BPMeds  1.12\n",
              "5       diabetes  1.04"
            ]
          },
          "metadata": {},
          "execution_count": 67
        }
      ]
    },
    {
      "cell_type": "code",
      "metadata": {
        "id": "7uEEIpoBCRf3"
      },
      "source": [
        "X_train_new = X_train_new.drop(['age'], axis=1)"
      ],
      "execution_count": 68,
      "outputs": []
    },
    {
      "cell_type": "code",
      "metadata": {
        "colab": {
          "base_uri": "https://localhost:8080/"
        },
        "id": "npJhR-VDCVYZ",
        "outputId": "d1eb72de-ab96-430f-eb6b-3b79de34c0df"
      },
      "source": [
        "X_train_lm = sm.add_constant(X_train_new)\n",
        "lm = sm.OLS(y__train,X_train_lm).fit()  \n",
        "print(lm.summary())"
      ],
      "execution_count": 69,
      "outputs": [
        {
          "output_type": "stream",
          "name": "stdout",
          "text": [
            "                            OLS Regression Results                            \n",
            "==============================================================================\n",
            "Dep. Variable:             TenYearCHD   R-squared:                       0.042\n",
            "Model:                            OLS   Adj. R-squared:                  0.039\n",
            "Method:                 Least Squares   F-statistic:                     14.84\n",
            "Date:                Tue, 12 Oct 2021   Prob (F-statistic):           4.67e-19\n",
            "Time:                        17:54:22   Log-Likelihood:                -824.42\n",
            "No. Observations:                2373   AIC:                             1665.\n",
            "Df Residuals:                    2365   BIC:                             1711.\n",
            "Df Model:                           7                                         \n",
            "Covariance Type:            nonrobust                                         \n",
            "=================================================================================\n",
            "                    coef    std err          t      P>|t|      [0.025      0.975]\n",
            "---------------------------------------------------------------------------------\n",
            "const             0.1131      0.025      4.523      0.000       0.064       0.162\n",
            "education        -0.0204      0.007     -2.919      0.004      -0.034      -0.007\n",
            "cigsPerDay        0.0016      0.001      1.629      0.103      -0.000       0.004\n",
            "BPMeds            0.0838      0.043      1.950      0.051      -0.000       0.168\n",
            "prevalentHyp      0.1081      0.016      6.773      0.000       0.077       0.139\n",
            "diabetes          0.1245      0.047      2.666      0.008       0.033       0.216\n",
            "sex_M             0.0427      0.015      2.859      0.004       0.013       0.072\n",
            "is_smoking_NO    -0.0059      0.021     -0.280      0.780      -0.047       0.035\n",
            "==============================================================================\n",
            "Omnibus:                      789.199   Durbin-Watson:                   2.015\n",
            "Prob(Omnibus):                  0.000   Jarque-Bera (JB):             1867.289\n",
            "Skew:                           1.919   Prob(JB):                         0.00\n",
            "Kurtosis:                       5.037   Cond. No.                         95.3\n",
            "==============================================================================\n",
            "\n",
            "Warnings:\n",
            "[1] Standard Errors assume that the covariance matrix of the errors is correctly specified.\n"
          ]
        }
      ]
    },
    {
      "cell_type": "code",
      "metadata": {
        "colab": {
          "base_uri": "https://localhost:8080/",
          "height": 0
        },
        "id": "sgrWuTMYCaat",
        "outputId": "865d2bca-91a6-4ed3-d2da-ce152aec05b9"
      },
      "source": [
        "vif = pd.DataFrame()\n",
        "X = X_train_new\n",
        "vif['Features'] = X.columns\n",
        "vif['VIF'] = [variance_inflation_factor(X.values, i) for i in range(X.shape[1])]\n",
        "vif['VIF'] = round(vif['VIF'], 2)\n",
        "vif = vif.sort_values(by = \"VIF\", ascending = False)\n",
        "vif"
      ],
      "execution_count": 70,
      "outputs": [
        {
          "output_type": "execute_result",
          "data": {
            "text/html": [
              "<div>\n",
              "<style scoped>\n",
              "    .dataframe tbody tr th:only-of-type {\n",
              "        vertical-align: middle;\n",
              "    }\n",
              "\n",
              "    .dataframe tbody tr th {\n",
              "        vertical-align: top;\n",
              "    }\n",
              "\n",
              "    .dataframe thead th {\n",
              "        text-align: right;\n",
              "    }\n",
              "</style>\n",
              "<table border=\"1\" class=\"dataframe\">\n",
              "  <thead>\n",
              "    <tr style=\"text-align: right;\">\n",
              "      <th></th>\n",
              "      <th>Features</th>\n",
              "      <th>VIF</th>\n",
              "    </tr>\n",
              "  </thead>\n",
              "  <tbody>\n",
              "    <tr>\n",
              "      <th>0</th>\n",
              "      <td>education</td>\n",
              "      <td>3.04</td>\n",
              "    </tr>\n",
              "    <tr>\n",
              "      <th>1</th>\n",
              "      <td>cigsPerDay</td>\n",
              "      <td>2.37</td>\n",
              "    </tr>\n",
              "    <tr>\n",
              "      <th>6</th>\n",
              "      <td>is_smoking_NO</td>\n",
              "      <td>2.33</td>\n",
              "    </tr>\n",
              "    <tr>\n",
              "      <th>5</th>\n",
              "      <td>sex_M</td>\n",
              "      <td>1.88</td>\n",
              "    </tr>\n",
              "    <tr>\n",
              "      <th>3</th>\n",
              "      <td>prevalentHyp</td>\n",
              "      <td>1.57</td>\n",
              "    </tr>\n",
              "    <tr>\n",
              "      <th>2</th>\n",
              "      <td>BPMeds</td>\n",
              "      <td>1.11</td>\n",
              "    </tr>\n",
              "    <tr>\n",
              "      <th>4</th>\n",
              "      <td>diabetes</td>\n",
              "      <td>1.04</td>\n",
              "    </tr>\n",
              "  </tbody>\n",
              "</table>\n",
              "</div>"
            ],
            "text/plain": [
              "        Features   VIF\n",
              "0      education  3.04\n",
              "1     cigsPerDay  2.37\n",
              "6  is_smoking_NO  2.33\n",
              "5          sex_M  1.88\n",
              "3   prevalentHyp  1.57\n",
              "2         BPMeds  1.11\n",
              "4       diabetes  1.04"
            ]
          },
          "metadata": {},
          "execution_count": 70
        }
      ]
    },
    {
      "cell_type": "markdown",
      "metadata": {
        "id": "rAm6DQ1UYBPd"
      },
      "source": [
        "# Data Spliting"
      ]
    },
    {
      "cell_type": "code",
      "metadata": {
        "id": "XzVGuRMDClSZ"
      },
      "source": [
        "# Num Features to be used are : education, cigsPerDay, is_smoking_NO, sex_M, prevalentHyp, BPMeds and Diabetes\n",
        "X = df[['education','cigsPerDay','is_smoking_NO','sex_M','prevalentHyp','BPMeds','diabetes']]\n",
        "y = df['TenYearCHD']"
      ],
      "execution_count": 71,
      "outputs": []
    },
    {
      "cell_type": "code",
      "metadata": {
        "id": "gc_eJKS4TIgc"
      },
      "source": [
        "#Splitting of dataset\n",
        "from sklearn.model_selection import train_test_split\n",
        "X_train,X_test,y_train,y_test=train_test_split(X,y,test_size=0.2,random_state=0)"
      ],
      "execution_count": 72,
      "outputs": []
    },
    {
      "cell_type": "code",
      "metadata": {
        "colab": {
          "base_uri": "https://localhost:8080/",
          "height": 204
        },
        "id": "XVh981usEpJa",
        "outputId": "31aa633a-2de7-496e-9959-432300e7a94c"
      },
      "source": [
        "X_train.head()"
      ],
      "execution_count": 73,
      "outputs": [
        {
          "output_type": "execute_result",
          "data": {
            "text/html": [
              "<div>\n",
              "<style scoped>\n",
              "    .dataframe tbody tr th:only-of-type {\n",
              "        vertical-align: middle;\n",
              "    }\n",
              "\n",
              "    .dataframe tbody tr th {\n",
              "        vertical-align: top;\n",
              "    }\n",
              "\n",
              "    .dataframe thead th {\n",
              "        text-align: right;\n",
              "    }\n",
              "</style>\n",
              "<table border=\"1\" class=\"dataframe\">\n",
              "  <thead>\n",
              "    <tr style=\"text-align: right;\">\n",
              "      <th></th>\n",
              "      <th>education</th>\n",
              "      <th>cigsPerDay</th>\n",
              "      <th>is_smoking_NO</th>\n",
              "      <th>sex_M</th>\n",
              "      <th>prevalentHyp</th>\n",
              "      <th>BPMeds</th>\n",
              "      <th>diabetes</th>\n",
              "    </tr>\n",
              "  </thead>\n",
              "  <tbody>\n",
              "    <tr>\n",
              "      <th>2134</th>\n",
              "      <td>1.0</td>\n",
              "      <td>0.0</td>\n",
              "      <td>1</td>\n",
              "      <td>0</td>\n",
              "      <td>0</td>\n",
              "      <td>0.0</td>\n",
              "      <td>0</td>\n",
              "    </tr>\n",
              "    <tr>\n",
              "      <th>1161</th>\n",
              "      <td>2.0</td>\n",
              "      <td>9.0</td>\n",
              "      <td>0</td>\n",
              "      <td>1</td>\n",
              "      <td>0</td>\n",
              "      <td>0.0</td>\n",
              "      <td>0</td>\n",
              "    </tr>\n",
              "    <tr>\n",
              "      <th>137</th>\n",
              "      <td>1.0</td>\n",
              "      <td>43.0</td>\n",
              "      <td>0</td>\n",
              "      <td>1</td>\n",
              "      <td>1</td>\n",
              "      <td>0.0</td>\n",
              "      <td>0</td>\n",
              "    </tr>\n",
              "    <tr>\n",
              "      <th>2170</th>\n",
              "      <td>1.0</td>\n",
              "      <td>0.0</td>\n",
              "      <td>1</td>\n",
              "      <td>0</td>\n",
              "      <td>0</td>\n",
              "      <td>0.0</td>\n",
              "      <td>0</td>\n",
              "    </tr>\n",
              "    <tr>\n",
              "      <th>2876</th>\n",
              "      <td>2.0</td>\n",
              "      <td>0.0</td>\n",
              "      <td>1</td>\n",
              "      <td>1</td>\n",
              "      <td>0</td>\n",
              "      <td>0.0</td>\n",
              "      <td>0</td>\n",
              "    </tr>\n",
              "  </tbody>\n",
              "</table>\n",
              "</div>"
            ],
            "text/plain": [
              "      education  cigsPerDay  is_smoking_NO  ...  prevalentHyp  BPMeds  diabetes\n",
              "2134        1.0         0.0              1  ...             0     0.0         0\n",
              "1161        2.0         9.0              0  ...             0     0.0         0\n",
              "137         1.0        43.0              0  ...             1     0.0         0\n",
              "2170        1.0         0.0              1  ...             0     0.0         0\n",
              "2876        2.0         0.0              1  ...             0     0.0         0\n",
              "\n",
              "[5 rows x 7 columns]"
            ]
          },
          "metadata": {},
          "execution_count": 73
        }
      ]
    },
    {
      "cell_type": "code",
      "metadata": {
        "id": "4aIFzdMLXxWs"
      },
      "source": [
        "# Stores the accuracies obtained by employing various ML models\n",
        "accuracies = {}\n",
        "recalls = {}"
      ],
      "execution_count": 105,
      "outputs": []
    },
    {
      "cell_type": "markdown",
      "metadata": {
        "id": "UEFlwL-5X_vS"
      },
      "source": [
        "# Model Training"
      ]
    },
    {
      "cell_type": "markdown",
      "metadata": {
        "id": "YwMl7fpTYILN"
      },
      "source": [
        "**Defining Confusion Matrix Function**\n"
      ]
    },
    {
      "cell_type": "code",
      "metadata": {
        "id": "aXNNaRPkX0il"
      },
      "source": [
        "# Confusion matrix  \n",
        "from sklearn.metrics import confusion_matrix, classification_report \n",
        "def confusion_matrix_compute(y_test,y_pred):\n",
        "    cm = confusion_matrix(y_test, y_pred) \n",
        "    conf_matrix = pd.DataFrame(data = cm,  \n",
        "                           columns = ['Predicted:0', 'Predicted:1'],  \n",
        "                           index =['Actual:0', 'Actual:1']) \n",
        "    plt.figure(figsize = (8, 5)) \n",
        "    sns.heatmap(conf_matrix, annot = True, fmt = 'd', cmap = \"Greens\") \n",
        "    plt.show() \n",
        "  \n",
        "    print('The details for confusion matrix is =') \n",
        "    print (classification_report(y_test, y_pred))"
      ],
      "execution_count": 75,
      "outputs": []
    },
    {
      "cell_type": "code",
      "metadata": {
        "id": "Q1-SoVvpsFc1"
      },
      "source": [
        "report = classification_report(y_test, y_pred, output_dict=True )\n",
        "model_recall = report['macro avg']['recall']\n",
        "recalls['Logistic Regression'] = model_recall"
      ],
      "execution_count": 100,
      "outputs": []
    },
    {
      "cell_type": "markdown",
      "metadata": {
        "id": "w7C2ZPUDYOdz"
      },
      "source": [
        "## Logistic Regression"
      ]
    },
    {
      "cell_type": "code",
      "metadata": {
        "colab": {
          "base_uri": "https://localhost:8080/"
        },
        "id": "0ceN5EG3X59d",
        "outputId": "2e01662b-b025-4ed7-ec4e-a5e95c23f0de"
      },
      "source": [
        "#Logistic Regression\n",
        "from sklearn.linear_model import LogisticRegression\n",
        "logreg=LogisticRegression()\n",
        "logreg.fit(X_train,y_train)\n",
        "y_pred=logreg.predict(X_test)\n",
        "chances=(sum(y_pred)/y_pred.size)*100\n",
        "acc = logreg.score(X_test,y_test)*100 \n",
        "accuracies['Logistic Regression'] = acc\n",
        "print(\"Heart Disease Risk Prediction : {:.2f}%\".format(chances))\n",
        "print(\"Logistic Regression Model Accuracy is {:.2f}%\".format(acc))"
      ],
      "execution_count": 133,
      "outputs": [
        {
          "output_type": "stream",
          "name": "stdout",
          "text": [
            "Heart Disease Risk Prediction : 0.74%\n",
            "Logistic Regression Model Accuracy is 84.81%\n",
            "Logistic Regression Model recall is 0.51%\n"
          ]
        }
      ]
    },
    {
      "cell_type": "code",
      "metadata": {
        "colab": {
          "base_uri": "https://localhost:8080/",
          "height": 507
        },
        "id": "cbJVOhqQX--M",
        "outputId": "1e665c69-bd0d-4327-eeff-c3353b1145ee"
      },
      "source": [
        "print(\"CONFUSION MATRIX\")\n",
        "confusion_matrix_compute(y_test,y_pred)"
      ],
      "execution_count": 134,
      "outputs": [
        {
          "output_type": "stream",
          "name": "stdout",
          "text": [
            "CONFUSION MATRIX\n"
          ]
        },
        {
          "output_type": "display_data",
          "data": {
            "image/png": "[encoded data removed]",
            "text/plain": [
              "<Figure size 576x360 with 2 Axes>"
            ]
          },
          "metadata": {
            "needs_background": "light"
          }
        },
        {
          "output_type": "stream",
          "name": "stdout",
          "text": [
            "The details for confusion matrix is =\n",
            "              precision    recall  f1-score   support\n",
            "\n",
            "           0       0.85      1.00      0.92       574\n",
            "           1       0.60      0.03      0.06       104\n",
            "\n",
            "    accuracy                           0.85       678\n",
            "   macro avg       0.72      0.51      0.49       678\n",
            "weighted avg       0.81      0.85      0.79       678\n",
            "\n"
          ]
        }
      ]
    },
    {
      "cell_type": "code",
      "metadata": {
        "colab": {
          "base_uri": "https://localhost:8080/"
        },
        "id": "5ocZZi3_xYOn",
        "outputId": "fac5f6af-6616-418e-d3ce-ade5c11cb4a9"
      },
      "source": [
        "report = classification_report(y_test, y_pred, output_dict=True )\n",
        "model_recall = report['macro avg']['recall']\n",
        "recalls['Logistic Regression'] = model_recall\n",
        "print(\"Logistic Regression Model recall is {:.2f}%\".format(model_recall))"
      ],
      "execution_count": 135,
      "outputs": [
        {
          "output_type": "stream",
          "name": "stdout",
          "text": [
            "Logistic Regression Model recall is 0.51%\n"
          ]
        }
      ]
    },
    {
      "cell_type": "markdown",
      "metadata": {
        "id": "SOjCzC4VYiPC"
      },
      "source": [
        "##KNN Classifier"
      ]
    },
    {
      "cell_type": "code",
      "metadata": {
        "colab": {
          "base_uri": "https://localhost:8080/",
          "height": 458
        },
        "id": "xuNE46PiYT08",
        "outputId": "8512258e-354f-4547-88f8-f690b44a1ed0"
      },
      "source": [
        "# KNN Classsifier\n",
        "from sklearn.neighbors import KNeighborsClassifier\n",
        "score_metrics=[]\n",
        "chances=[]\n",
        "iterations=100\n",
        "for i in range(1,iterations):\n",
        "    knn=KNeighborsClassifier(n_neighbors=i)\n",
        "    knn.fit(X_train,y_train)\n",
        "    y_pred=knn.predict(X_test)\n",
        "    chances.append((sum(y_pred)/y_pred.size)*100)\n",
        "    score_metrics.append(knn.score(X_test,y_test))\n",
        "\n",
        "plt.figure(figsize=(10,7))\n",
        "plt.plot(range(1,iterations),score_metrics)\n",
        "plt.title(\"Evaluation Metrics\")\n",
        "plt.xlabel(\"No of iterations\")\n",
        "plt.ylabel(\"Score\")\n",
        "plt.show()"
      ],
      "execution_count": 137,
      "outputs": [
        {
          "output_type": "display_data",
          "data": {
            "image/png": "[encoded data removed]",
            "text/plain": [
              "<Figure size 720x504 with 1 Axes>"
            ]
          },
          "metadata": {
            "needs_background": "light"
          }
        }
      ]
    },
    {
      "cell_type": "code",
      "metadata": {
        "colab": {
          "base_uri": "https://localhost:8080/",
          "height": 507
        },
        "id": "_9GWVTEmYkza",
        "outputId": "1c96a47e-436a-4d78-e23d-d67f1d8e92fa"
      },
      "source": [
        "print(\"CONFUSION MATRIX\")\n",
        "confusion_matrix_compute(y_test,y_pred)"
      ],
      "execution_count": 138,
      "outputs": [
        {
          "output_type": "stream",
          "name": "stdout",
          "text": [
            "CONFUSION MATRIX\n"
          ]
        },
        {
          "output_type": "display_data",
          "data": {
            "image/png": "[encoded data removed]",
            "text/plain": [
              "<Figure size 576x360 with 2 Axes>"
            ]
          },
          "metadata": {
            "needs_background": "light"
          }
        },
        {
          "output_type": "stream",
          "name": "stdout",
          "text": [
            "The details for confusion matrix is =\n",
            "              precision    recall  f1-score   support\n",
            "\n",
            "           0       0.85      1.00      0.92       574\n",
            "           1       0.00      0.00      0.00       104\n",
            "\n",
            "    accuracy                           0.85       678\n",
            "   macro avg       0.42      0.50      0.46       678\n",
            "weighted avg       0.72      0.85      0.78       678\n",
            "\n"
          ]
        }
      ]
    },
    {
      "cell_type": "code",
      "metadata": {
        "colab": {
          "base_uri": "https://localhost:8080/"
        },
        "id": "Y4M1op11ZHr_",
        "outputId": "9f23f887-bcb3-4f0e-d518-4423f4ba1f59"
      },
      "source": [
        "acc=max(score_metrics)*100\n",
        "report = classification_report(y_test, y_pred, output_dict=True )\n",
        "model_recall = report['macro avg']['recall']\n",
        "recalls['KNN'] = model_recall\n",
        "max_index = np.argmax(score_metrics)\n",
        "print(\"Heart Disease Risk Prediction : {:.2f}%\".format(chances[max_index]))\n",
        "accuracies['KNN']=acc\n",
        "print(\"Max Model Accuracy is {:.2f}%\".format(acc),\"at iteration no. {:.2f}\".format(max_index))\n",
        "print(\"KNN Model Accuracy is {:.2f}%\".format(acc))\n",
        "print(\"KNN Model recall is {:.2f}%\".format(model_recall))"
      ],
      "execution_count": 139,
      "outputs": [
        {
          "output_type": "stream",
          "name": "stdout",
          "text": [
            "Heart Disease Risk Prediction : 0.15%\n",
            "Max Model Accuracy is 84.81% at iteration no. 18.00\n",
            "KNN Model Accuracy is 84.81%\n",
            "KNN Model recall is 0.50%\n"
          ]
        }
      ]
    },
    {
      "cell_type": "markdown",
      "metadata": {
        "id": "q_ZHpV8_ZWKQ"
      },
      "source": [
        "## SVM"
      ]
    },
    {
      "cell_type": "code",
      "metadata": {
        "id": "1UbVA-5hZLHP"
      },
      "source": [
        "# SVM Classifier using various kernels\n",
        "kernels=[\"linear\",\"rbf\",\"poly\",\"sigmoid\"]\n",
        "chances=[]\n",
        "svc_scores=[]\n",
        "for i in range (len(kernels)):\n",
        "    clf=SVC(kernel=kernels[i])\n",
        "    clf.fit(X_train,y_train)\n",
        "    y_pred=clf.predict(X_test)\n",
        "    chances.append((sum(y_pred)/y_pred.size)*100)\n",
        "    svc_scores.append(clf.score(X_test,y_test))"
      ],
      "execution_count": 140,
      "outputs": []
    },
    {
      "cell_type": "code",
      "metadata": {
        "colab": {
          "base_uri": "https://localhost:8080/",
          "height": 507
        },
        "id": "eUZ5Z1DAZbLZ",
        "outputId": "b804cac4-c4b7-4393-8833-329b895447c5"
      },
      "source": [
        "print(\"CONFUSION MATRIX\")\n",
        "confusion_matrix_compute(y_test,y_pred)"
      ],
      "execution_count": 141,
      "outputs": [
        {
          "output_type": "stream",
          "name": "stdout",
          "text": [
            "CONFUSION MATRIX\n"
          ]
        },
        {
          "output_type": "display_data",
          "data": {
            "image/png": "[encoded data removed]",
            "text/plain": [
              "<Figure size 576x360 with 2 Axes>"
            ]
          },
          "metadata": {
            "needs_background": "light"
          }
        },
        {
          "output_type": "stream",
          "name": "stdout",
          "text": [
            "The details for confusion matrix is =\n",
            "              precision    recall  f1-score   support\n",
            "\n",
            "           0       0.85      0.92      0.88       574\n",
            "           1       0.16      0.09      0.11       104\n",
            "\n",
            "    accuracy                           0.79       678\n",
            "   macro avg       0.51      0.50      0.50       678\n",
            "weighted avg       0.74      0.79      0.76       678\n",
            "\n"
          ]
        }
      ]
    },
    {
      "cell_type": "code",
      "metadata": {
        "colab": {
          "base_uri": "https://localhost:8080/",
          "height": 526
        },
        "id": "v61fpHtAZfuH",
        "outputId": "567a8840-0d05-4859-9915-43c095bc08dc"
      },
      "source": [
        "colors = rainbow(np.linspace(0, 1, len(kernels)))\n",
        "plt.figure(figsize=(10,7))\n",
        "plt.bar(kernels,svc_scores,color=colors)\n",
        "plt.xlabel(\"Kernels\")\n",
        "plt.ylabel(\"Score\")\n",
        "plt.title(\"Accuracies obtained using Various SVM kernels\")\n",
        "acc=max(svc_scores)*100\n",
        "max_index = np.argmax(svc_scores)\n",
        "accuracies['SVM']=acc\n",
        "report = classification_report(y_test, y_pred, output_dict=True )\n",
        "model_recall = report['macro avg']['recall']\n",
        "recalls['SVM'] = model_recall\n",
        "print(\"Heart Disease Risk Prediction : {:.2f}%\".format(chances[max_index]))\n",
        "print(\"Max Model Accuracy obtained is {:.2f}% \".format(acc))\n",
        "print(\"SVM Model Accuracy is {:.2f}% \".format(acc))\n",
        "print(\"SVM Model recall is {:.2f}%\".format(model_recall))"
      ],
      "execution_count": 142,
      "outputs": [
        {
          "output_type": "stream",
          "name": "stdout",
          "text": [
            "Heart Disease Risk Prediction : 0.00%\n",
            "Max Model Accuracy obtained is 84.66% \n",
            "SVM Model Accuracy is 84.66% \n",
            "SVM Model recall is 0.50%\n"
          ]
        },
        {
          "output_type": "display_data",
          "data": {
            "image/png": "[encoded data removed]",
            "text/plain": [
              "<Figure size 720x504 with 1 Axes>"
            ]
          },
          "metadata": {
            "needs_background": "light"
          }
        }
      ]
    },
    {
      "cell_type": "markdown",
      "metadata": {
        "id": "d-aCyLMCZ3oO"
      },
      "source": [
        "## Naive Baye's Classifier"
      ]
    },
    {
      "cell_type": "code",
      "metadata": {
        "id": "ysTgigCIZnTH"
      },
      "source": [
        "# Naive Bayes\n",
        "nb_classifier=GaussianNB()\n",
        "nb_classifier.fit(X_train,y_train)\n",
        "y_pred=nb_classifier.predict(X_test)"
      ],
      "execution_count": 143,
      "outputs": []
    },
    {
      "cell_type": "code",
      "metadata": {
        "colab": {
          "base_uri": "https://localhost:8080/",
          "height": 507
        },
        "id": "gCYU1r6ZZ6KW",
        "outputId": "947f7f24-da1b-438d-e0ee-1874b2c9e490"
      },
      "source": [
        "print(\"CONFUSION MATRIX\")\n",
        "confusion_matrix_compute(y_test,y_pred)"
      ],
      "execution_count": 144,
      "outputs": [
        {
          "output_type": "stream",
          "name": "stdout",
          "text": [
            "CONFUSION MATRIX\n"
          ]
        },
        {
          "output_type": "display_data",
          "data": {
            "image/png": "[encoded data removed]",
            "text/plain": [
              "<Figure size 576x360 with 2 Axes>"
            ]
          },
          "metadata": {
            "needs_background": "light"
          }
        },
        {
          "output_type": "stream",
          "name": "stdout",
          "text": [
            "The details for confusion matrix is =\n",
            "              precision    recall  f1-score   support\n",
            "\n",
            "           0       0.86      0.96      0.91       574\n",
            "           1       0.40      0.15      0.22       104\n",
            "\n",
            "    accuracy                           0.83       678\n",
            "   macro avg       0.63      0.56      0.56       678\n",
            "weighted avg       0.79      0.83      0.80       678\n",
            "\n"
          ]
        }
      ]
    },
    {
      "cell_type": "code",
      "metadata": {
        "colab": {
          "base_uri": "https://localhost:8080/"
        },
        "id": "PZ2YhTV9Z8_j",
        "outputId": "9735718b-b7f2-4992-d280-3e8b0c54b22a"
      },
      "source": [
        "chances=(sum(y_pred)/y_pred.size)*100\n",
        "report = classification_report(y_test, y_pred, output_dict=True )\n",
        "model_recall = report['macro avg']['recall']\n",
        "recalls['Naive Bayes'] = model_recall\n",
        "acc=nb_classifier.score(X_test,y_test)*100\n",
        "accuracies['Naive Bayes']=acc\n",
        "print(\"Heart Disease Risk Prediction : {:.2f}%\".format(chances))\n",
        "print(\"Naive Bayes Model Accuracy is {:.2f}%\".format(acc))\n",
        "print(\"Naive BAyes Model recall is {:.2f}%\".format(model_recall))"
      ],
      "execution_count": 145,
      "outputs": [
        {
          "output_type": "stream",
          "name": "stdout",
          "text": [
            "Heart Disease Risk Prediction : 5.90%\n",
            "Naive Bayes Model Accuracy is 83.48%\n",
            "Naive BAyes Model recall is 0.56%\n"
          ]
        }
      ]
    },
    {
      "cell_type": "markdown",
      "metadata": {
        "id": "Ub8fk_aUxtSz"
      },
      "source": [
        "## Decision Tree Classifier"
      ]
    },
    {
      "cell_type": "code",
      "metadata": {
        "id": "5_sJKhEtaCZk"
      },
      "source": [
        "# Decision Tree Classifier\n",
        "from sklearn.tree import DecisionTreeClassifier\n",
        "dt_scores=[]\n",
        "chances=[]\n",
        "for i in range(1,7):\n",
        "    dt_clf=DecisionTreeClassifier(max_features=i,criterion='entropy', random_state=0)\n",
        "    dt_clf.fit(X_train,y_train)\n",
        "    y_pred=dt_clf.predict(X_test)\n",
        "    chances.append((sum(y_pred)/y_pred.size)*100)\n",
        "    dt_scores.append(dt_clf.score(X_test,y_test))"
      ],
      "execution_count": 146,
      "outputs": []
    },
    {
      "cell_type": "code",
      "metadata": {
        "colab": {
          "base_uri": "https://localhost:8080/",
          "height": 507
        },
        "id": "Pu_MwhsgaJXQ",
        "outputId": "62cb09ff-f30d-4f84-f880-a0ace04f139c"
      },
      "source": [
        "print(\"CONFUSION MATRIX\")\n",
        "confusion_matrix_compute(y_test,y_pred)"
      ],
      "execution_count": 147,
      "outputs": [
        {
          "output_type": "stream",
          "name": "stdout",
          "text": [
            "CONFUSION MATRIX\n"
          ]
        },
        {
          "output_type": "display_data",
          "data": {
            "image/png": "[encoded data removed]",
            "text/plain": [
              "<Figure size 576x360 with 2 Axes>"
            ]
          },
          "metadata": {
            "needs_background": "light"
          }
        },
        {
          "output_type": "stream",
          "name": "stdout",
          "text": [
            "The details for confusion matrix is =\n",
            "              precision    recall  f1-score   support\n",
            "\n",
            "           0       0.85      0.99      0.92       574\n",
            "           1       0.46      0.06      0.10       104\n",
            "\n",
            "    accuracy                           0.85       678\n",
            "   macro avg       0.66      0.52      0.51       678\n",
            "weighted avg       0.79      0.85      0.79       678\n",
            "\n"
          ]
        }
      ]
    },
    {
      "cell_type": "code",
      "metadata": {
        "colab": {
          "base_uri": "https://localhost:8080/"
        },
        "id": "J2kJYuQBaNSs",
        "outputId": "f481436a-6bcf-4814-a9a7-3a35163f7ad1"
      },
      "source": [
        "acc=max(dt_scores)*100\n",
        "report = classification_report(y_test, y_pred, output_dict=True )\n",
        "model_recall = report['macro avg']['recall']\n",
        "recalls['Decision Tree'] = model_recall\n",
        "max_index = np.argmax(dt_scores)\n",
        "print(\"Heart Disease Risk Prediction : {:.2f}%\".format(chances[max_index]))\n",
        "print(\"Decision Tree Classifier Model Accuracy is {:.2f}% at maximum feature={:.0f}\".format(acc,max_index))\n",
        "accuracies['Decision Tree']=acc\n",
        "print(\"Decision Tree Classifier Model recall is {:.2f}%\".format(model_recall))"
      ],
      "execution_count": 148,
      "outputs": [
        {
          "output_type": "stream",
          "name": "stdout",
          "text": [
            "Heart Disease Risk Prediction : 2.21%\n",
            "Decision Tree Classifier Model Accuracy is 84.81% at maximum feature=4\n",
            "Decision Tree Classifier Model recall is 0.52%\n"
          ]
        }
      ]
    },
    {
      "cell_type": "markdown",
      "metadata": {
        "id": "HOGlZVcqxxs7"
      },
      "source": [
        "## Random Forest Classifier"
      ]
    },
    {
      "cell_type": "code",
      "metadata": {
        "id": "b2NM2RKJaUS5"
      },
      "source": [
        "# Random Forest Classifier\n",
        "from sklearn.ensemble import RandomForestClassifier\n",
        "rf_scores=[]\n",
        "estimators = [10, 100, 200, 500, 1000]\n",
        "chances=[]\n",
        "for i in estimators:\n",
        "    rf_clf=RandomForestClassifier(n_estimators=i,criterion='entropy', random_state=0)\n",
        "    rf_clf.fit(X_train,y_train)\n",
        "    y_pred=rf_clf.predict(X_test)\n",
        "    chances.append((sum(y_pred)/y_pred.size)*100)\n",
        "    rf_scores.append(dt_clf.score(X_test,y_test))"
      ],
      "execution_count": 149,
      "outputs": []
    },
    {
      "cell_type": "code",
      "metadata": {
        "colab": {
          "base_uri": "https://localhost:8080/",
          "height": 507
        },
        "id": "rthd03r_aYAO",
        "outputId": "235e8c72-9ad1-43fc-bc60-48b0466f5542"
      },
      "source": [
        "print(\"CONFUSION MATRIX\")\n",
        "confusion_matrix_compute(y_test,y_pred)"
      ],
      "execution_count": 150,
      "outputs": [
        {
          "output_type": "stream",
          "name": "stdout",
          "text": [
            "CONFUSION MATRIX\n"
          ]
        },
        {
          "output_type": "display_data",
          "data": {
            "image/png": "[encoded data removed]",
            "text/plain": [
              "<Figure size 576x360 with 2 Axes>"
            ]
          },
          "metadata": {
            "needs_background": "light"
          }
        },
        {
          "output_type": "stream",
          "name": "stdout",
          "text": [
            "The details for confusion matrix is =\n",
            "              precision    recall  f1-score   support\n",
            "\n",
            "           0       0.85      0.98      0.91       574\n",
            "           1       0.26      0.05      0.08       104\n",
            "\n",
            "    accuracy                           0.83       678\n",
            "   macro avg       0.56      0.51      0.49       678\n",
            "weighted avg       0.76      0.83      0.78       678\n",
            "\n"
          ]
        }
      ]
    },
    {
      "cell_type": "code",
      "metadata": {
        "colab": {
          "base_uri": "https://localhost:8080/"
        },
        "id": "5dJT8ycrqSvx",
        "outputId": "e39972f4-6dcd-4ca3-fd95-0d85eee41c44"
      },
      "source": [
        "acc=max(rf_scores)*100\n",
        "report = classification_report(y_test, y_pred, output_dict=True )\n",
        "model_recall = report['macro avg']['recall']\n",
        "recalls['Random Forest'] = model_recall\n",
        "max_index = np.argmax(rf_scores)\n",
        "print(\"Heart Disease Risk Prediction : {:.2f}%\".format(chances[max_index]))\n",
        "print(\"RandomForest Classifier Model Accuracy is {:.2f}% at maximum feature={:.0f}\".format(acc,max_index))\n",
        "accuracies['Random Forest']=acc\n",
        "print(\"RandomForest Classifier  Model recall is {:.2f}%\".format(model_recall))"
      ],
      "execution_count": 151,
      "outputs": [
        {
          "output_type": "stream",
          "name": "stdout",
          "text": [
            "Heart Disease Risk Prediction : 3.39%\n",
            "RandomForest Classifier Model Accuracy is 84.51% at maximum feature=0\n",
            "RandomForest Classifier  Model recall is 0.51%\n"
          ]
        }
      ]
    },
    {
      "cell_type": "markdown",
      "metadata": {
        "id": "9bL8doJ4al3Z"
      },
      "source": [
        "# K- Fold Cross validation on all models"
      ]
    },
    {
      "cell_type": "code",
      "metadata": {
        "colab": {
          "base_uri": "https://localhost:8080/"
        },
        "id": "JfTJJxqhacCi",
        "outputId": "637d425a-1f08-4afc-ae8d-944de2b4bbb9"
      },
      "source": [
        "print(\"k fold Cross Val Score\")\n",
        "print(\"logistic={:.2f}%\".format(np.mean(cross_val_score(logreg,X,y,cv=10))*100))\n",
        "knn=KNeighborsClassifier(n_neighbors=7)\n",
        "print(\"KNN ={:.2f}%\".format(np.mean(cross_val_score(knn,X,y,cv=10))*100))\n",
        "nb_classifier=GaussianNB()\n",
        "print(\"Gaussian Naive Bayes={:.2f}%\".format(np.mean(cross_val_score(nb_classifier,X,y,cv=10))*100))\n",
        "clf=SVC(kernel=\"rbf\")\n",
        "print(\"SVC={:.2f}%\".format(np.mean(cross_val_score(clf,X,y,cv=10))*100))\n",
        "dt_clf=DecisionTreeClassifier(max_features=4,criterion='entropy', random_state=0)\n",
        "print(\"Decision Tree Classifier={:.2f}%\".format(np.mean(cross_val_score(dt_clf,X,y,cv=10))*100))\n",
        "rf_clf=RandomForestClassifier(n_estimators=10,criterion='entropy', random_state=0)\n",
        "print(\"Random Forest Classifier={:.2f}%\".format(np.mean(cross_val_score(rf_clf,X,y,cv=10))*100))"
      ],
      "execution_count": 93,
      "outputs": [
        {
          "output_type": "stream",
          "name": "stdout",
          "text": [
            "k fold Cross Val Score\n",
            "logistic=85.01%\n",
            "KNN =84.07%\n",
            "Gaussian Naive Bayes=83.22%\n",
            "SVC=84.93%\n",
            "Decision Tree Classifier=83.86%\n",
            "Random Forest Classifier=83.27%\n"
          ]
        }
      ]
    },
    {
      "cell_type": "markdown",
      "metadata": {
        "id": "LA_0IEb0aujX"
      },
      "source": [
        "# Accuracies of all model"
      ]
    },
    {
      "cell_type": "code",
      "metadata": {
        "colab": {
          "base_uri": "https://localhost:8080/",
          "height": 428
        },
        "id": "E3GAdehGapFr",
        "outputId": "fd9c9ebb-4624-4a22-fdc0-1f03e6411f8c"
      },
      "source": [
        "model=list(accuracies.keys())\n",
        "score=list(accuracies.values())\n",
        "colors = rainbow(np.linspace(0, 1, len(model)))\n",
        "plt.figure(figsize=(17,7))\n",
        "plt.bar(model,score,color=colors,width=0.8)\n",
        "for i in range(len(model)):\n",
        "    plt.text(i,score[i],score[i])"
      ],
      "execution_count": 94,
      "outputs": [
        {
          "output_type": "display_data",
          "data": {
            "image/png": "[encoded data removed]",
            "text/plain": [
              "<Figure size 1224x504 with 1 Axes>"
            ]
          },
          "metadata": {
            "needs_background": "light"
          }
        }
      ]
    },
    {
      "cell_type": "markdown",
      "metadata": {
        "id": "9CbWlgweyGpm"
      },
      "source": [
        "#Recall comparision of all models"
      ]
    },
    {
      "cell_type": "code",
      "metadata": {
        "id": "YQEtvn5_atqP",
        "colab": {
          "base_uri": "https://localhost:8080/",
          "height": 428
        },
        "outputId": "2a02edbc-3cf0-4d09-c5e7-42b8e1575b82"
      },
      "source": [
        "model=list(recalls.keys())\n",
        "score=list(recalls.values())\n",
        "colors = rainbow(np.linspace(0, 1, len(model)))\n",
        "plt.figure(figsize=(17,7))\n",
        "plt.bar(model,score,color=colors,width=0.8)\n",
        "for i in range(len(model)):\n",
        "    plt.text(i,score[i],score[i])"
      ],
      "execution_count": 152,
      "outputs": [
        {
          "output_type": "display_data",
          "data": {
            "image/png": "[encoded data removed]",
            "text/plain": [
              "<Figure size 1224x504 with 1 Axes>"
            ]
          },
          "metadata": {
            "needs_background": "light"
          }
        }
      ]
    }
  ]
}